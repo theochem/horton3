{
  "cells": [
    {
      "cell_type": "markdown",
      "metadata": {
        "id": "2kSXjtx0YYih"
      },
      "source": [
        "# HORTON 3.x DensPart Demo\n",
        "\n",
        "This notebook shows how to use a `.fchk` file to run an minimal basis iterative stockholder (MBIS) partitioning using the [`IOData`](https://github.com/theochem/iodata), [`Grid`](https://github.com/theochem/grid), [`GBasis`](https://github.com/theochem/gbasis), and [`DensPart`](https://github.com/theochem/denspart) packages.\n",
        "\n",
        "> **If you are using Google Colab**, you'll need to install packages and download the example files by running the commands in the next cell."
      ]
    },
    {
      "cell_type": "code",
      "execution_count": 1,
      "metadata": {
        "id": "E6id0JHnYYij",
        "outputId": "147d9099-5b36-4db4-e508-6051cca82438",
        "colab": {
          "base_uri": "https://localhost:8080/"
        }
      },
      "outputs": [
        {
          "output_type": "stream",
          "name": "stdout",
          "text": [
            "Collecting git+https://github.com/theochem/iodata.git\n",
            "  Cloning https://github.com/theochem/iodata.git to /tmp/pip-req-build-wlsash1x\n",
            "  Running command git clone --filter=blob:none --quiet https://github.com/theochem/iodata.git /tmp/pip-req-build-wlsash1x\n",
            "  Resolved https://github.com/theochem/iodata.git to commit ca6113b60fc967f3c280bd03374aaba1644d672e\n",
            "  Preparing metadata (setup.py) ... \u001b[?25l\u001b[?25hdone\n",
            "Requirement already satisfied: numpy>=1.0 in /usr/local/lib/python3.10/dist-packages (from qc-iodata==0.0.0.post0) (1.22.4)\n",
            "Requirement already satisfied: scipy in /usr/local/lib/python3.10/dist-packages (from qc-iodata==0.0.0.post0) (1.10.1)\n",
            "Requirement already satisfied: attrs>=20.1.0 in /usr/local/lib/python3.10/dist-packages (from qc-iodata==0.0.0.post0) (23.1.0)\n",
            "Building wheels for collected packages: qc-iodata\n",
            "  Building wheel for qc-iodata (setup.py) ... \u001b[?25l\u001b[?25hdone\n",
            "  Created wheel for qc-iodata: filename=qc_iodata-0.0.0.post0-py3-none-any.whl size=3337356 sha256=bf7773ceea26b3cd12cf4c05d14a64458aa7744cb98f4d0e62751052543a973e\n",
            "  Stored in directory: /tmp/pip-ephem-wheel-cache-ygg9oswj/wheels/c2/0a/62/493efe62d77a51ee3d7918ade8cfe73f1d18416f9679edd471\n",
            "Successfully built qc-iodata\n",
            "Installing collected packages: qc-iodata\n",
            "Successfully installed qc-iodata-0.0.0.post0\n",
            "Collecting git+https://github.com/theochem/grid.git\n",
            "  Cloning https://github.com/theochem/grid.git to /tmp/pip-req-build-ghecgf00\n",
            "  Running command git clone --filter=blob:none --quiet https://github.com/theochem/grid.git /tmp/pip-req-build-ghecgf00\n",
            "  Resolved https://github.com/theochem/grid.git to commit af94e5bee1868d1533c30c164c41f0dbe9dd470f\n",
            "  Installing build dependencies ... \u001b[?25l\u001b[?25hdone\n",
            "  Getting requirements to build wheel ... \u001b[?25l\u001b[?25hdone\n",
            "  Installing backend dependencies ... \u001b[?25l\u001b[?25hdone\n",
            "  Preparing metadata (pyproject.toml) ... \u001b[?25l\u001b[?25hdone\n",
            "Requirement already satisfied: numpy>=1.16 in /usr/local/lib/python3.10/dist-packages (from qc-grid==0.0.5a6.post435) (1.22.4)\n",
            "Requirement already satisfied: pytest>=2.6 in /usr/local/lib/python3.10/dist-packages (from qc-grid==0.0.5a6.post435) (7.2.2)\n",
            "Requirement already satisfied: scipy>=1.4 in /usr/local/lib/python3.10/dist-packages (from qc-grid==0.0.5a6.post435) (1.10.1)\n",
            "Requirement already satisfied: importlib-resources in /usr/local/lib/python3.10/dist-packages (from qc-grid==0.0.5a6.post435) (6.0.0)\n",
            "Requirement already satisfied: sympy in /usr/local/lib/python3.10/dist-packages (from qc-grid==0.0.5a6.post435) (1.11.1)\n",
            "Requirement already satisfied: attrs>=19.2.0 in /usr/local/lib/python3.10/dist-packages (from pytest>=2.6->qc-grid==0.0.5a6.post435) (23.1.0)\n",
            "Requirement already satisfied: iniconfig in /usr/local/lib/python3.10/dist-packages (from pytest>=2.6->qc-grid==0.0.5a6.post435) (2.0.0)\n",
            "Requirement already satisfied: packaging in /usr/local/lib/python3.10/dist-packages (from pytest>=2.6->qc-grid==0.0.5a6.post435) (23.1)\n",
            "Requirement already satisfied: pluggy<2.0,>=0.12 in /usr/local/lib/python3.10/dist-packages (from pytest>=2.6->qc-grid==0.0.5a6.post435) (1.2.0)\n",
            "Requirement already satisfied: exceptiongroup>=1.0.0rc8 in /usr/local/lib/python3.10/dist-packages (from pytest>=2.6->qc-grid==0.0.5a6.post435) (1.1.2)\n",
            "Requirement already satisfied: tomli>=1.0.0 in /usr/local/lib/python3.10/dist-packages (from pytest>=2.6->qc-grid==0.0.5a6.post435) (2.0.1)\n",
            "Requirement already satisfied: mpmath>=0.19 in /usr/local/lib/python3.10/dist-packages (from sympy->qc-grid==0.0.5a6.post435) (1.3.0)\n",
            "Building wheels for collected packages: qc-grid\n",
            "  Building wheel for qc-grid (pyproject.toml) ... \u001b[?25l\u001b[?25hdone\n",
            "  Created wheel for qc-grid: filename=qc_grid-0.0.5a6.post435-py3-none-any.whl size=66086160 sha256=0333186b959d1f94c234ec6175dc3adb42cf80584085a91ae5501014e3e9058a\n",
            "  Stored in directory: /tmp/pip-ephem-wheel-cache-2_0x6iqx/wheels/a6/7e/d0/e7e9de5cadf7aa355b808e24206e4dac0a318a2b71a62e17ff\n",
            "Successfully built qc-grid\n",
            "Installing collected packages: qc-grid\n",
            "Successfully installed qc-grid-0.0.5a6.post435\n",
            "Collecting git+https://github.com/theochem/gbasis.git\n",
            "  Cloning https://github.com/theochem/gbasis.git to /tmp/pip-req-build-h2d2ecei\n",
            "  Running command git clone --filter=blob:none --quiet https://github.com/theochem/gbasis.git /tmp/pip-req-build-h2d2ecei\n",
            "  Resolved https://github.com/theochem/gbasis.git to commit 2eb9e49775b6b0a35737825f640f7c33fd3bfa54\n",
            "  Preparing metadata (setup.py) ... \u001b[?25l\u001b[?25hdone\n",
            "Requirement already satisfied: numpy>=1.10 in /usr/local/lib/python3.10/dist-packages (from gbasis==0.0.0) (1.22.4)\n",
            "Requirement already satisfied: scipy>=1.0 in /usr/local/lib/python3.10/dist-packages (from gbasis==0.0.0) (1.10.1)\n",
            "Building wheels for collected packages: gbasis\n",
            "  Building wheel for gbasis (setup.py) ... \u001b[?25l\u001b[?25hdone\n",
            "  Created wheel for gbasis: filename=gbasis-0.0.0-py3-none-any.whl size=82376 sha256=22310df7a45bcb6aa4e9470b2644c2dc3f02a7b7291427fb707d67aa13e19161\n",
            "  Stored in directory: /tmp/pip-ephem-wheel-cache-9z8nn0t8/wheels/8e/1c/36/9bb66e1dbd3ede9743ae0266a4115bcb511dcbbf7975230de1\n",
            "Successfully built gbasis\n",
            "Installing collected packages: gbasis\n",
            "Successfully installed gbasis-0.0.0\n",
            "Collecting git+https://github.com/theochem/denspart.git\n",
            "  Cloning https://github.com/theochem/denspart.git to /tmp/pip-req-build-1oyotmeo\n",
            "  Running command git clone --filter=blob:none --quiet https://github.com/theochem/denspart.git /tmp/pip-req-build-1oyotmeo\n",
            "  Resolved https://github.com/theochem/denspart.git to commit 85569c505fb09eb5bc0f007b544c9632b318fa57\n",
            "  Installing build dependencies ... \u001b[?25l\u001b[?25hdone\n",
            "  Getting requirements to build wheel ... \u001b[?25l\u001b[?25hdone\n",
            "  Installing backend dependencies ... \u001b[?25l\u001b[?25hdone\n",
            "  Preparing metadata (pyproject.toml) ... \u001b[?25l\u001b[?25hdone\n",
            "Requirement already satisfied: numpy>=1.0 in /usr/local/lib/python3.10/dist-packages (from Denspart==0.0.post96) (1.22.4)\n",
            "Requirement already satisfied: scipy in /usr/local/lib/python3.10/dist-packages (from Denspart==0.0.post96) (1.10.1)\n",
            "Building wheels for collected packages: Denspart\n",
            "  Building wheel for Denspart (pyproject.toml) ... \u001b[?25l\u001b[?25hdone\n",
            "  Created wheel for Denspart: filename=Denspart-0.0.post96-py3-none-any.whl size=207716 sha256=3af1246332ee17d96b21b891ba6f3736624e1f17624a335f7e87f882a8aeef17\n",
            "  Stored in directory: /tmp/pip-ephem-wheel-cache-jj30ct7d/wheels/d7/ec/d6/87ce98159aefae83b45144c02baf095a245b8ac1dd01425954\n",
            "Successfully built Denspart\n",
            "Installing collected packages: Denspart\n",
            "Successfully installed Denspart-0.0.post96\n"
          ]
        },
        {
          "output_type": "execute_result",
          "data": {
            "text/plain": [
              "('data/h2o_sto3g.fchk', <http.client.HTTPMessage at 0x7c8fc2bd1420>)"
            ]
          },
          "metadata": {},
          "execution_count": 1
        }
      ],
      "source": [
        "# Install packages in Google Colab. Don't run this cell if packages/data is already in your environment\n",
        "# Manually specifying the scipy version because of current gbasis issues.\n",
        "! pip install scipy==1.10.1\n",
        "! pip install git+https://github.com/theochem/iodata.git\n",
        "! pip install git+https://github.com/theochem/grid.git\n",
        "! pip install git+https://github.com/theochem/gbasis.git\n",
        "! pip install git+https://github.com/theochem/denspart.git\n",
        "\n",
        "# download the example files.\n",
        "# If you are using your own files, you'll set up the path to the file here.\n",
        "import os\n",
        "from urllib.request import urlretrieve\n",
        "\n",
        "fpath = \"data/\"\n",
        "if not os.path.exists(fpath):\n",
        "    os.makedirs(fpath, exist_ok=True)\n",
        "\n",
        "urlretrieve(\n",
        "    \"https://raw.githubusercontent.com/theochem/horton3/master/notebooks/data/h2o_sto3g.fchk\",\n",
        "    os.path.join(fpath, \"h2o_sto3g.fchk\")\n",
        "    )"
      ]
    },
    {
      "cell_type": "markdown",
      "metadata": {
        "id": "1sNDMMyrYYil"
      },
      "source": [
        "# `IOData`\n",
        "\n",
        "[GitHub Repository](https://github.com/theochem/iodata) | [Webpage](https://iodata.qcdevs.org/) | [Publication](https://onlinelibrary.wiley.com/doi/10.1002/jcc.26468)\n",
        "\n",
        "Check [IOData Webpage](https://iodata.qcdevs.org/) for list of supported file formats and properties.\n",
        "\n",
        "Here we use `IOData` to load an `.fchk` file."
      ]
    },
    {
      "cell_type": "code",
      "execution_count": 2,
      "metadata": {
        "id": "MAX0Gn9IYYil"
      },
      "outputs": [],
      "source": [
        "# This uses IOData to load an *.fchk file\n",
        "from iodata import load_one\n",
        "\n",
        "mol = load_one(\"data/h2o_sto3g.fchk\")"
      ]
    },
    {
      "cell_type": "markdown",
      "metadata": {
        "id": "kx9nWv1cYYim"
      },
      "source": [
        "# `Grid`\n",
        "\n",
        "[GitHub Repository](https://github.com/theochem/grid) | [Webpage](https://grid.qcdevs.org/)\n",
        "\n",
        "Here we make an \"ultrafine\" Becke-Lebedev molecular grid. Other types of grids can be constructed too."
      ]
    },
    {
      "cell_type": "code",
      "execution_count": 3,
      "metadata": {
        "id": "JdQK4uhdYYim",
        "outputId": "5cffe361-28e8-4abd-a780-4a3f1c5e5cdf",
        "colab": {
          "base_uri": "https://localhost:8080/"
        }
      },
      "outputs": [
        {
          "output_type": "stream",
          "name": "stderr",
          "text": [
            "/usr/local/lib/python3.10/dist-packages/grid/atomgrid.py:889: UserWarning: Lebedev weights are negative which can introduce round-off errors.\n",
            "  sphere_grid = AngularGrid(degree=deg_i, use_spherical=use_spherical)\n"
          ]
        }
      ],
      "source": [
        "# Make Becke-Lebedev molecular grid (using preset grid)\n",
        "from grid.becke import BeckeWeights\n",
        "from grid.molgrid import MolGrid\n",
        "from grid.onedgrid import GaussChebyshev\n",
        "from grid.rtransform import BeckeRTransform\n",
        "\n",
        "oned = GaussChebyshev(100)\n",
        "rgrid = BeckeRTransform(1e-4, 1.5).transform_1d_grid(oned)\n",
        "grid = MolGrid.from_preset(mol.atnums, mol.atcoords, rgrid, \"ultrafine\", BeckeWeights())"
      ]
    },
    {
      "cell_type": "markdown",
      "metadata": {
        "id": "tQoc1ZG5YYin"
      },
      "source": [
        "# `GBasis`\n",
        "\n",
        "[GitHub Repository](https://github.com/theochem/gbasis)\n",
        "\n",
        "Compute molecular density (using gbasis package). This is done by constructing the density matrix in the atomic-orbital basis,\n",
        "\n",
        "$$\n",
        "\\gamma_{pr} = \\sum_{q} c_{pq} n_q c_{qr}\n",
        "$$\n",
        "\n",
        "and then evaluating the electron density on the grid.\n"
      ]
    },
    {
      "cell_type": "code",
      "execution_count": 4,
      "metadata": {
        "id": "LTvQ2XZ_YYin"
      },
      "outputs": [],
      "source": [
        "from gbasis.wrappers import from_iodata\n",
        "from gbasis.evals.density import evaluate_density\n",
        "\n",
        "import numpy as np   #We need this to evaluate the 1DM from the MOs\n",
        "\n",
        "one_rdm = np.dot(mol.mo.coeffs * mol.mo.occs, mol.mo.coeffs.T)\n",
        "basis = from_iodata(mol)\n",
        "density = evaluate_density(one_rdm, basis[0], grid.points, coord_type=basis[1])"
      ]
    },
    {
      "cell_type": "markdown",
      "metadata": {
        "id": "byY1dOUyYYin"
      },
      "source": [
        "# `Denspart`\n",
        "\n",
        "Compute and print atomic charges and atomic dipoles/multipoles\n",
        "\n",
        "For details about variational Hirshfeld partitioning and the MBIS method, see:\n",
        "- [Information-Theoretic Atoms in Molecules](https://doi.org/10.1021/acs.jpca.7b08966).\n",
        "- [Minimal Basis Iterative Stockholder (MBIS)](https://pubs.acs.org/doi/abs/10.1021/acs.jctc.6b00456)."
      ]
    },
    {
      "cell_type": "code",
      "execution_count": 5,
      "metadata": {
        "id": "qmzzrs9sYYin",
        "outputId": "ca40c59b-adec-4ef2-dcce-ec948591c3a5",
        "colab": {
          "base_uri": "https://localhost:8080/"
        }
      },
      "outputs": [
        {
          "output_type": "stream",
          "name": "stdout",
          "text": [
            "Building local grids\n",
            "Integral of density: 10.000000007189016\n",
            "Optimization\n",
            "#Iter  #Call         ekld          kld  -constraint     grad.rms  cputime (s)\n",
            "-----  -----  -----------  -----------  -----------  -----------  -----------\n",
            "    1      1    0.5936643    0.5936643  -7.1890e-09   2.4770e-01    0.0557489\n",
            "    2      2    0.4224869    0.4067274   1.5760e-02   1.7380e-01    0.0508478\n",
            "    3      3    2.7972750    2.2696992   5.2758e-01   1.6102e+00    0.0531064\n",
            "    4      4    0.6307481    0.0908026   5.3995e-01   2.1510e-01    0.0519477\n",
            "    5      5    1.7407048    2.7852702  -1.0446e+00   1.2625e+00    0.0581814\n",
            "    6      6    0.2765421   -0.1087255   3.8527e-01   8.2597e-02    0.0525186\n",
            "    7      6    0.2765421   -0.1087255   3.8527e-01   8.2597e-02    0.0525186\n",
            "    8      7    0.2560120    0.0162623   2.3975e-01   5.2435e-02    0.0436702\n",
            "    9      8    0.2496596    0.0234474   2.2621e-01   4.9950e-02    0.0343531\n",
            "   10      9    0.2334682    0.4039918  -1.7052e-01   3.1926e-02    0.0340312\n",
            "   11     10    0.2323729    0.2407139  -8.3410e-03   1.8575e-02    0.0315320\n",
            "   12     12   35.0135769   31.5808384   3.4327e+00   1.6328e+02    0.0393823\n",
            "   13     13   15.8202786   11.3320053   4.4883e+00   1.2704e+00    0.0358822\n",
            "   14     14    0.2343328    0.2084374   2.5895e-02   4.0414e-02    0.0308314\n",
            "   15     15    0.2694617    0.1258270   1.4363e-01   1.3656e-01    0.0362166\n",
            "   16     16    0.2321236    0.2211033   1.1020e-02   1.7735e-02    0.0328761\n",
            "   17     16    0.2321236    0.2211033   1.1020e-02   1.7735e-02    0.0328761\n",
            "   18     18    0.6965910    1.2293062  -5.3272e-01   5.8829e-01    0.0525114\n",
            "   19     19    0.2474218    0.4299024  -1.8248e-01   7.4833e-02    0.0541646\n",
            "   20     21    0.2337596    0.3266538  -9.2894e-02   3.6838e-02    0.0528229\n",
            "   21     22    0.2297633    0.2637631  -3.4000e-02   7.7110e-03    0.0473282\n"
          ]
        },
        {
          "output_type": "stream",
          "name": "stderr",
          "text": [
            "/usr/local/lib/python3.10/dist-packages/scipy/optimize/_hessian_update_strategy.py:182: UserWarning: delta_grad == 0.0. Check if the approximated function is linear. If the function is linear better results can be obtained by defining the Hessian as zero instead of using quasi-Newton approximations.\n",
            "  warn('delta_grad == 0.0. Check if the approximated '\n"
          ]
        },
        {
          "output_type": "stream",
          "name": "stdout",
          "text": [
            "   22     23    0.2295481    0.2627020  -3.3154e-02   5.9980e-03    0.0421575\n",
            "   23     24    0.2291385    0.2577497  -2.8611e-02   5.3032e-03    0.0351705\n",
            "   24     25    0.2279101    0.2039434   2.3967e-02   6.0058e-03    0.0314418\n",
            "   25     26    0.2278231    0.1973589   3.0464e-02   6.3806e-03    0.0438370\n",
            "   26     27    0.2267634    0.1962649   3.0499e-02   8.9342e-03    0.0314270\n",
            "   27     28    0.2265583    0.2144687   1.2090e-02   5.5002e-03    0.0437023\n",
            "   28     29    0.2253243    0.2194405   5.8838e-03   1.0711e-02    0.0377451\n",
            "   29     31    6.7464375    7.0411862  -2.9475e-01   3.7579e+00    0.0386752\n",
            "   30     32    0.2292962    0.1938794   3.5417e-02   2.7527e-02    0.0311889\n",
            "   31     33    0.2249490    0.2070437   1.7905e-02   9.9310e-03    0.0400437\n",
            "   32     34    0.2245992    0.2277165  -3.1172e-03   3.6622e-03    0.0350436\n",
            "   33     35    0.2570640   -0.0351203   2.9218e-01   1.3197e-01    0.0315852\n",
            "   34     36    0.2245693    0.2112767   1.3293e-02   3.7442e-03    0.0312861\n",
            "   35     36    0.2245693    0.2112767   1.3293e-02   3.7442e-03    0.0312861\n",
            "   36     37    0.2243703    0.2301725  -5.8022e-03   2.9035e-03    0.0386349\n",
            "   37     38    0.2243177    0.2337812  -9.4636e-03   1.2962e-03    0.0560768\n",
            "   38     39    0.2242713    0.2318231  -7.5518e-03   9.6480e-04    0.0552413\n",
            "   39     40    0.2242687    0.2310323  -6.7637e-03   9.0324e-04    0.0543486\n",
            "   40     41    0.2242632    0.2231930   1.0702e-03   8.7632e-04    0.0533517\n",
            "   41     41    0.2242632    0.2231930   1.0702e-03   8.7632e-04    0.0533517\n",
            "   42     42    0.2242587    0.2262574  -1.9986e-03   1.4444e-04    0.0619297\n",
            "   43     43    0.2242583    0.2236724   5.8586e-04   1.2628e-04    0.0551778\n",
            "   44     43    0.2242583    0.2236724   5.8586e-04   1.2628e-04    0.0551778\n",
            "   45     44    0.2242582    0.2242808  -2.2624e-05   2.3718e-05    0.0574548\n",
            "   46     45    0.2242580    0.2241308   1.2721e-04   2.3877e-05    0.0559883\n",
            "   47     45    0.2242580    0.2241308   1.2721e-04   2.3877e-05    0.0559883\n",
            "   48     46    0.2242580    0.2242534   4.6170e-06   5.0051e-06    0.0610178\n",
            "   49     46    0.2242580    0.2242534   4.6170e-06   5.0051e-06    0.0610178\n",
            "   50     47    0.2242580    0.2242657  -7.6902e-06   9.1459e-07    0.0564371\n",
            "   51     48    0.2242580    0.2242524   5.6806e-06   9.6150e-07    0.0554694\n",
            "   52     48    0.2242580    0.2242524   5.6806e-06   9.6150e-07    0.0554694\n",
            "   53     49    0.2242580    0.2242575   4.9759e-07   2.0469e-07    0.0603997\n",
            "   54     49    0.2242580    0.2242575   4.9759e-07   2.0469e-07    0.0603997\n",
            "   55     50    0.2242580    0.2242582  -1.8220e-07   3.5799e-08    0.0565980\n",
            "   56     50    0.2242580    0.2242582  -1.8220e-07   3.5799e-08    0.0565980\n",
            "   57     51    0.2242580    0.2242580   2.2828e-08   1.0100e-08    0.0532582\n",
            "   58     52    0.2242580    0.2242580   6.4247e-08   8.2973e-09    0.0569280\n",
            "-----  -----  -----------  -----------  -----------  -----------  -----------\n",
            "Optimizer message: \"`gtol` termination condition is satisfied.\"\n",
            "Total charge:             -7.1890156e-09\n",
            "Sum atomic charges:       -7.1435603e-08\n",
            "Atomic Charges    =  [-0.54322264  0.2716113   0.27161127]\n",
            "\n",
            "Atomic Multipoles =  [[-2.60452472e-08 -9.47928773e-03 -1.34127626e-02  1.22971381e-01\n",
            "  -9.02479245e-08 -2.38237215e-08  4.15644937e-03 -1.17384166e-02\n",
            "  -4.76203100e-07 -8.65153026e-02 -1.22415827e-01 -7.90050636e-07\n",
            "   1.97589973e-07  3.97774503e-01 -1.12184844e-01 -2.20562636e-01\n",
            "   1.87106846e-06 -6.69775853e-06  4.16732340e-03 -1.17868336e-02\n",
            "  -5.13960191e-06 -1.65298610e-06 -1.99417993e-01 -1.61498426e-01]\n",
            " [-4.56002332e-08 -5.54922321e-03  1.86720337e-03 -1.33664270e-02\n",
            "  -8.16356144e-08 -5.79020265e-08  2.77683213e-02 -5.46616522e-03\n",
            "   5.92339222e-07  1.04951779e-02 -5.12738259e-03  2.25069330e-07\n",
            "  -4.95946532e-07 -1.21672385e-02 -1.53863697e-02 -3.55301108e-02\n",
            "  -4.57029822e-07  3.29932749e-06  4.49093239e-02  2.91765492e-03\n",
            "   5.26261131e-06 -2.28590888e-06 -3.80924553e-02  4.07440592e-02]\n",
            " [ 2.92480103e-08  3.61257138e-03 -4.60768532e-03 -1.33664076e-02\n",
            "   4.16215535e-08  8.96274818e-08 -1.81398237e-02 -2.17226248e-02\n",
            "   1.35112558e-07 -8.33664873e-03  8.18145580e-03  2.10771403e-07\n",
            "   3.50213074e-07 -2.33655769e-03  1.94778081e-02 -3.55240990e-02\n",
            "  -6.63478277e-07  3.53217568e-06 -3.67333569e-02 -2.59937323e-02\n",
            "   3.22558968e-07  2.27791451e-06  3.19272583e-02 -4.57248269e-02]]\n"
          ]
        }
      ],
      "source": [
        "from denspart.mbis import MBISProModel\n",
        "from denspart.vh import optimize_reduce_pro_model\n",
        "from denspart.properties import compute_radial_moments, compute_multipole_moments, safe_ratio\n",
        "\n",
        "pro_model_init = MBISProModel.from_geometry(mol.atnums, mol.atcoords)\n",
        "pro_model, localgrids = optimize_reduce_pro_model(pro_model_init,grid,density)\n",
        "\n",
        "results = pro_model.to_dict()\n",
        "results.update({\"charges\": pro_model.charges,\n",
        "                 \"multipole_moments\": compute_multipole_moments(pro_model, grid, density, localgrids)})\n",
        "\n",
        "print(\"Atomic Charges    = \", results[\"charges\"])\n",
        "print(\"\")\n",
        "print(\"Atomic Multipoles = \", results[\"multipole_moments\"])"
      ]
    }
  ],
  "metadata": {
    "kernelspec": {
      "display_name": "Python 3 (ipykernel)",
      "language": "python",
      "name": "python3"
    },
    "language_info": {
      "codemirror_mode": {
        "name": "ipython",
        "version": 3
      },
      "file_extension": ".py",
      "mimetype": "text/x-python",
      "name": "python",
      "nbconvert_exporter": "python",
      "pygments_lexer": "ipython3",
      "version": "3.9.12"
    },
    "toc": {
      "base_numbering": 1,
      "nav_menu": {},
      "number_sections": true,
      "sideBar": true,
      "skip_h1_title": false,
      "title_cell": "Table of Contents",
      "title_sidebar": "Contents",
      "toc_cell": false,
      "toc_position": {},
      "toc_section_display": true,
      "toc_window_display": false
    },
    "vscode": {
      "interpreter": {
        "hash": "4846203d052f4918654383d2fa4dc83e5f0e073317ccb4eea0fa3b82d0bd9d45"
      }
    },
    "colab": {
      "provenance": []
    }
  },
  "nbformat": 4,
  "nbformat_minor": 0
}
