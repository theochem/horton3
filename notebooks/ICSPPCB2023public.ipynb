{
 "cells": [
  {
   "cell_type": "markdown",
   "metadata": {
    "slideshow": {
     "slide_type": "subslide"
    }
   },
   "source": [
    "# You Don't Have to Be Named Bob to Be a Theorist\n",
    "<center> <h3> Paul W. Ayers; McMaster University </h3> </center>\n",
    "\n",
    "<br>\n",
    "<br>\n",
    "\n",
    "- May 1994 Bob Morrison"
   ]
  },
  {
   "cell_type": "markdown",
   "metadata": {
    "slideshow": {
     "slide_type": "fragment"
    }
   },
   "source": [
    "- June 1994 Bob Parr"
   ]
  },
  {
   "cell_type": "markdown",
   "metadata": {
    "slideshow": {
     "slide_type": "fragment"
    }
   },
   "source": [
    "- June 1994 Pratim Chattaraj"
   ]
  },
  {
   "cell_type": "markdown",
   "metadata": {
    "slideshow": {
     "slide_type": "slide"
    }
   },
   "source": [
    "<center> <h1> Parr, Pratim, and Paul </h1> </center>\n",
    "</br>\n",
    "<img src=\"data/images/ParrPratimPaul.jpg\" style=\"display:block; margin:auto;  width:950px\">"
   ]
  },
  {
   "cell_type": "markdown",
   "metadata": {
    "slideshow": {
     "slide_type": "slide"
    }
   },
   "source": [
    "<table>\n",
    "<tr>\n",
    "    <td> <img src=\"data/images/web_logo_white.png\" alt=\"QC-Devs logo\" style=\"width: 550px;\"/> </td>\n",
    "    <td> <img src=\"data/images/QCEdulogo.png\" alt=\"QC-Edu logo\" style=\"width: 500px;\"/> </td>\n",
    "</tr>\n",
    "</table>\n",
    "\n",
    "https://colab.research.google.com/ <br>\n",
    "**Source:** `demo_Chattaraj_2023.ipynb`; **GitHub:** `theochem/horton3/notebooks`<br>\n",
    "<span style=\"color:green\"> $$ Compute Canada, NSERC, FWO, Fondecyt, Google Summer of Code, ... </span>"
   ]
  },
  {
   "cell_type": "markdown",
   "metadata": {
    "slideshow": {
     "slide_type": "slide"
    }
   },
   "source": [
    "<center> <h1> From HORTON to QC-Devs </h1> </center>\n",
    "\n",
    "- **2011** HORTON 1.x (**Verstraelen** & **Ayers**; constrained HF/DFT for MM force field development)\n",
    "  - <span style=\"color:red\"> Python + C++; monolithic with pervasive `molecule` (singleton) class </span>\n",
    "  - <span style=\"color:green\"> Version control; Automatic testing; documentation </span>\n",
    "<img src=\"data/images/simpsons.jpg\" style=\"display:block; margin:auto\">\n",
    " \n"
   ]
  },
  {
   "cell_type": "markdown",
   "metadata": {
    "slideshow": {
     "slide_type": "slide"
    }
   },
   "source": [
    "- **2014** HORTON 2.x (+ **Heidar-Zadeh**, **V&ouml;hringer-Martinez**, Chan, etc.; *ab initio*)\n",
    "  - <span style=\"color:red\"> linear algebra factories and `matrix` class; overreliance on C++/Cython </span>\n",
    "  - <span style=\"color:green\"> continuous integration and deployment; scripts ensure quality, documentation, test coverage, correctness; review of pull requests. </span>\n",
    "  <table>\n",
    "<tr>\n",
    "    <td> <img src=\"data/images/book1.jpg\" alt=\"unreadable code book\" style=\"width: 350px;\"/> </td>\n",
    "    <td> <img src=\"data/images/book2.jpg\" alt=\"unit test book\" style=\"width: 350px;\"/> </td>\n",
    "</tr>\n",
    "</table>\n"
   ]
  },
  {
   "cell_type": "markdown",
   "metadata": {
    "slideshow": {
     "slide_type": "slide"
    }
   },
   "source": [
    "- **2020-** HORTON 3 (+ Tehrani, Yang, Kim, Richer, Sanchez-Diaz, Pujal, Chuiko)\n",
    "  - Python 3; independent modules with clear scope & clean API, maintained as a separate (public) GitHub repositories.\n",
    "  - \"HORTON 3\" refers to notebooks/scripts that use these tools together.\n",
    "- **2022** Horton 2.3 (**Chan**, **Heidar-Zadeh**, etc.); migrate HORTON 2 to Python 3, eliminate `matrix` class)\n",
    "<img src=\"data/images/bus.png\" style=\"display:block; margin:auto\">"
   ]
  },
  {
   "cell_type": "markdown",
   "metadata": {
    "slideshow": {
     "slide_type": "slide"
    }
   },
   "source": [
    "<center> <h1> QC-Devs </h1> </center>\n",
    "\n",
    "- Community devoted to developing sustainable software for quantum chemistry, physics, and the computational sciences. See [qcdevs.org](https://qcdevs.org/).\n",
    "  - **Accessible** 100% free and open source codes hosted on [GitHub](https://github.com/theochem). \n",
    "    - [Welcoming, inclusive, and helpful Devs community](https://qcdevs.org/guidelines/QCDevsCodeOfConduct/)\n",
    "  - **Customizable** User- and developer-friendly\n",
    "    - intuitive APIs and extensive documentation\n",
    "    - thoroughly tested and modular code that’s easy to modify.\n",
    "  - **Collaborative** Platform for performing and sharing scientific research. Committed to FAIR, Open, and reproducible science. Join the team! \n",
    "- Google Summer of Code (with [Open Chemistry](https://www.openchemistry.org/)) in 2021 and [2022](https://github.com/theochem/procrustes) and [2023](https://wiki.openchemistry.org/GSoC_Ideas_2023)."
   ]
  },
  {
   "cell_type": "markdown",
   "metadata": {
    "slideshow": {
     "slide_type": "slide"
    }
   },
   "source": [
    "<img src=\"data/images/HORTONcoronene.png\" alt=\"HORTON modules\" style=\"display:block; margin:auto; width:950px;\"/>"
   ]
  },
  {
   "cell_type": "markdown",
   "metadata": {
    "slideshow": {
     "slide_type": "slide"
    }
   },
   "source": [
    "# `IOData`\n",
    "\n",
    "[GitHub Repository](https://github.com/theochem/iodata) | [Webpage](https://iodata.qcdevs.org/) | [Publication](https://onlinelibrary.wiley.com/doi/10.1002/jcc.26468)\n",
    "\n",
    "> `IOData` is a free and open-source Python library for parsing, storing, and converting various file formats commonly used by quantum chemistry, molecular dynamics, and plane-wave density-functional-theory software programs. It also supports a flexible framework for generating input files for various software packages.\n",
    "\n",
    "Check [IOData Webpage](https://iodata.qcdevs.org/) for list of supported file formats and properties."
   ]
  },
  {
   "cell_type": "code",
   "execution_count": 1,
   "metadata": {
    "slideshow": {
     "slide_type": "subslide"
    }
   },
   "outputs": [],
   "source": [
    "from iodata import load_one"
   ]
  },
  {
   "cell_type": "code",
   "execution_count": 2,
   "metadata": {
    "scrolled": false,
    "slideshow": {
     "slide_type": "fragment"
    }
   },
   "outputs": [
    {
     "name": "stdout",
     "output_type": "stream",
     "text": [
      "Number of atoms    =  3\n",
      "Atomic numbers     =  [8 1 1]\n",
      "Atomic coordinates = \n",
      "[[-4.44734101  3.39697999  0.        ]\n",
      " [-2.58401495  3.55136194  0.        ]\n",
      " [-4.92380519  5.2049622   0.        ]]\n",
      "\n",
      "MO Occupations =  [2. 2. 2. 2. 2. 0. 0.]\n",
      "MO Energies    =  [-20.2515759   -1.25754909  -0.59385665  -0.45972894  -0.39261675\n",
      "   0.58179435   0.69267699]\n"
     ]
    }
   ],
   "source": [
    "mol = load_one(\"data/h2o_sto3g.fchk\")\n",
    "\n",
    "print(\"Number of atoms    = \", mol.natom)\n",
    "print(\"Atomic numbers     = \", mol.atnums)\n",
    "print(\"Atomic coordinates = \")\n",
    "print(mol.atcoords)\n",
    "print(\"\")\n",
    "print(\"MO Occupations = \", mol.mo.occs)\n",
    "print(\"MO Energies    = \", mol.mo.energies )"
   ]
  },
  {
   "cell_type": "markdown",
   "metadata": {
    "slideshow": {
     "slide_type": "slide"
    }
   },
   "source": [
    "# `Grid`\n",
    "\n",
    "[GitHub Repository](https://github.com/theochem/grid) | [Webpage](https://grid.qcdevs.org/)\n",
    "\n",
    "> `grid` is a free and open-source Python library for numerical integration, interpolation and differentiation of interest for the quantum chemistry community. Grid is intended to support molecular density-functional (DFT) theory calculations, but it also periodic boundary conditions."
   ]
  },
  {
   "cell_type": "code",
   "execution_count": 3,
   "metadata": {
    "slideshow": {
     "slide_type": "subslide"
    }
   },
   "outputs": [],
   "source": [
    "from grid.becke import BeckeWeights\n",
    "from grid.molgrid import MolGrid\n",
    "from grid.onedgrid import GaussChebyshev\n",
    "from grid.rtransform import BeckeRTransform"
   ]
  },
  {
   "cell_type": "code",
   "execution_count": 4,
   "metadata": {
    "slideshow": {
     "slide_type": "fragment"
    }
   },
   "outputs": [
    {
     "name": "stdout",
     "output_type": "stream",
     "text": [
      "Grid points shape  =  (33000, 3)\n",
      "Grid weights shape =  (33000,)\n"
     ]
    }
   ],
   "source": [
    "# Make molecular grid (using grid package)\n",
    "oned = GaussChebyshev(100)\n",
    "rgrid = BeckeRTransform(1e-4, 1.5).transform_1d_grid(oned)\n",
    "grid = MolGrid.from_size(mol.atnums, mol.atcoords, rgrid, 110, BeckeWeights())\n",
    " \n",
    "print(\"Grid points shape  = \", grid.points.shape)\n",
    "print(\"Grid weights shape = \", grid.weights.shape)"
   ]
  },
  {
   "cell_type": "code",
   "execution_count": 5,
   "metadata": {
    "slideshow": {
     "slide_type": "subslide"
    }
   },
   "outputs": [
    {
     "name": "stdout",
     "output_type": "stream",
     "text": [
      "Grid points shape  =  (40580, 3)\n",
      "Grid weights shape =  (40580,)\n"
     ]
    }
   ],
   "source": [
    "# Make molecular grid (using preset grid)\n",
    "oned = GaussChebyshev(100)\n",
    "rgrid = BeckeRTransform(1e-4, 1.5).transform_1d_grid(oned)\n",
    "grid = MolGrid.from_preset(mol.atnums, mol.atcoords, rgrid, \"ultrafine\", BeckeWeights())\n",
    "\n",
    "print(\"Grid points shape  = \", grid.points.shape)\n",
    "print(\"Grid weights shape = \", grid.weights.shape) "
   ]
  },
  {
   "cell_type": "markdown",
   "metadata": {
    "slideshow": {
     "slide_type": "slide"
    }
   },
   "source": [
    "## `GBasis`\n",
    "\n",
    "[GitHub Repository](https://github.com/theochem/gbasis)\n",
    "\n",
    "> `gbasis` is a (pure!) Python package for evaluating and analytically integrating Gaussian-type orbitals and their related quantities. The goal is to build a set of tools to the quantum chemistry community that are easily accessible and easy to use as to facilitate future scientific works."
   ]
  },
  {
   "cell_type": "markdown",
   "metadata": {
    "slideshow": {
     "slide_type": "subslide"
    }
   },
   "source": [
    "from gbasis.wrappers import from_iodata\n",
    "from gbasis.evals.density import evaluate_density \n",
    "\n",
    "import numpy as np   #We need this to evaluate the 1DM from the MOs "
   ]
  },
  {
   "cell_type": "code",
   "execution_count": 7,
   "metadata": {
    "slideshow": {
     "slide_type": "fragment"
    }
   },
   "outputs": [
    {
     "name": "stdout",
     "output_type": "stream",
     "text": [
      "Density shape =  (40580,)\n"
     ]
    }
   ],
   "source": [
    "# Compute molecular density (using gbasis package)\n",
    "one_rdm = np.dot(mol.mo.coeffs * mol.mo.occs, mol.mo.coeffs.T)\n",
    "basis = from_iodata(mol)\n",
    "density = evaluate_density(one_rdm, basis[0], grid.points, coord_type=basis[1])\n",
    "\n",
    "print(\"Density shape = \", density.shape) "
   ]
  },
  {
   "cell_type": "code",
   "execution_count": 8,
   "metadata": {
    "slideshow": {
     "slide_type": "fragment"
    }
   },
   "outputs": [
    {
     "name": "stdout",
     "output_type": "stream",
     "text": [
      "Number of Electrons =  10.000000006890561\n"
     ]
    }
   ],
   "source": [
    "# Integrate electron density\n",
    "print(\"Number of Electrons = \", grid.integrate(density))"
   ]
  },
  {
   "cell_type": "markdown",
   "metadata": {
    "slideshow": {
     "slide_type": "slide"
    }
   },
   "source": [
    "# `Denspart`\n",
    "\n",
    "[GitHub Repository](https://github.com/theochem/denspart)\n",
    "\n",
    "> Atoms-in-molecules density partitioning schemes for molecules and solids, based on the Hirshfeld/stockholder recipe.\n",
    "\n",
    "- [Information-Theoretic Atoms in Molecules](https://doi.org/10.1021/acs.jpca.7b08966).\n",
    "- [Minimal Basis Iterative Stockholder (MBIS)](https://pubs.acs.org/doi/abs/10.1021/acs.jctc.6b00456)."
   ]
  },
  {
   "cell_type": "code",
   "execution_count": 9,
   "metadata": {
    "slideshow": {
     "slide_type": "subslide"
    }
   },
   "outputs": [],
   "source": [
    "from denspart.mbis import MBISProModel\n",
    "from denspart.vh import optimize_reduce_pro_model\n",
    "from denspart.properties import compute_radial_moments, compute_multipole_moments, safe_ratio"
   ]
  },
  {
   "cell_type": "code",
   "execution_count": 10,
   "metadata": {
    "slideshow": {
     "slide_type": "subslide"
    }
   },
   "outputs": [
    {
     "name": "stdout",
     "output_type": "stream",
     "text": [
      "Building local grids\n",
      "Integral of density: 10.000000006890561\n",
      "Optimization\n",
      "#Iter  #Call         ekld          kld  -constraint     grad.rms  cputime (s)\n",
      "-----  -----  -----------  -----------  -----------  -----------  -----------\n",
      "    1      1    0.5936643    0.5936643  -6.8906e-09   2.4770e-01    0.0312500\n",
      "    2      6    0.3754005    0.2911263   8.4274e-02   1.2531e-01    0.0312500\n",
      "    3     12    0.2687459    0.1706235   9.8122e-02   6.2369e-02    0.0312500\n",
      "    4     12    0.2687459    0.1706235   9.8122e-02   6.2369e-02    0.0312500\n",
      "    5     19    0.2305905    0.1915320   3.9058e-02   1.2145e-02    0.0156250\n",
      "    6     19    0.2305905    0.1915320   3.9058e-02   1.2145e-02    0.0156250\n",
      "    7     28    0.2244651    0.2004810   2.3984e-02   2.7877e-03    0.0468750\n",
      "    8     28    0.2244651    0.2004810   2.3984e-02   2.7877e-03    0.0468750\n",
      "    9     35    0.2243041    0.2168318   7.4723e-03   7.5064e-04    0.0312500\n",
      "   10     35    0.2243041    0.2168318   7.4723e-03   7.5064e-04    0.0312500\n",
      "   11     44    0.2242584    0.2247352  -4.7686e-04   1.6091e-04    0.0000000\n",
      "   12     49    0.2242582    0.2236452   6.1295e-04   1.5031e-04    0.0312500\n",
      "   13     49    0.2242582    0.2236452   6.1295e-04   1.5031e-04    0.0312500\n",
      "   14     55    0.2242580    0.2243500  -9.1934e-05   2.5065e-05    0.0156250\n",
      "   15     55    0.2242580    0.2243500  -9.1934e-05   2.5065e-05    0.0156250\n",
      "   16     61    0.2242580    0.2242243   3.3764e-05   6.3945e-06    0.0312500\n",
      "   17     61    0.2242580    0.2242243   3.3764e-05   6.3945e-06    0.0312500\n",
      "   18     71    0.2242580    0.2242530   4.9867e-06   9.7609e-07    0.0156250\n",
      "   19     71    0.2242580    0.2242530   4.9867e-06   9.7609e-07    0.0156250\n",
      "   20     77    0.2242580    0.2242580   6.4404e-08   2.0891e-07    0.0312500\n",
      "   21     77    0.2242580    0.2242580   6.4404e-08   2.0891e-07    0.0312500\n",
      "   22     83    0.2242580    0.2242584  -4.0729e-07   3.7616e-08    0.0156250\n",
      "   23     93    0.2242580    0.2242578   1.9942e-07   3.8820e-08    0.0000000\n",
      "-----  -----------  -----------  -----------  -----------  -----------\n",
      "Optimizer message: \"`gtol` termination condition is satisfied.\"\n",
      "Total charge:             -6.8905610e-09\n",
      "Sum atomic charges:       -2.0630636e-07\n"
     ]
    }
   ],
   "source": [
    "pro_model_init = MBISProModel.from_geometry(mol.atnums, mol.atcoords)\n",
    "pro_model, localgrids = optimize_reduce_pro_model(pro_model_init,grid,density)"
   ]
  },
  {
   "cell_type": "code",
   "execution_count": 11,
   "metadata": {
    "slideshow": {
     "slide_type": "subslide"
    }
   },
   "outputs": [
    {
     "name": "stdout",
     "output_type": "stream",
     "text": [
      "Atomic Charges    =  [-0.54322263  0.27161123  0.2716112 ]\n",
      "\n",
      "Atomic Multipoles =  [[-2.77157965e-08 -9.47941846e-03 -1.34129457e-02  1.22972248e-01\n",
      "  -1.04675893e-07 -3.01403989e-08  4.15633537e-03 -1.17380706e-02\n",
      "  -3.31163988e-07 -8.65134055e-02 -1.22413535e-01 -7.04339987e-07\n",
      "   2.24145988e-07  3.97769013e-01 -1.12183007e-01 -2.20574081e-01\n",
      "   2.51392224e-06 -5.85901714e-06  4.17058593e-03 -1.17914205e-02\n",
      "  -4.97421931e-06 -4.87585461e-07 -1.99432126e-01 -1.61509085e-01]\n",
      " [-4.47575570e-08 -5.54922627e-03  1.86719382e-03 -1.33663931e-02\n",
      "  -8.66908074e-08 -5.05921445e-08  2.77683259e-02 -5.46610512e-03\n",
      "   5.44900565e-07  1.04950325e-02 -5.12722653e-03  2.06493216e-07\n",
      "  -5.52570575e-07 -1.21674826e-02 -1.53865456e-02 -3.55306334e-02\n",
      "  -1.87438326e-07  2.99176512e-06  4.49091923e-02  2.91676027e-03\n",
      "   5.58586670e-06 -2.18149650e-06 -3.80912105e-02  4.07435938e-02]\n",
      " [ 2.88051362e-08  3.61256531e-03 -4.60769211e-03 -1.33663785e-02\n",
      "   3.64229578e-08  9.15640784e-08 -1.81398552e-02 -2.17225799e-02\n",
      "   1.65242521e-07 -8.33649070e-03  8.18137598e-03  1.84163595e-07\n",
      "   3.74183451e-07 -2.33659760e-03  1.94780956e-02 -3.55245164e-02\n",
      "  -4.09914967e-07  3.47709428e-06 -3.67329186e-02 -2.59942304e-02\n",
      "   2.66933981e-07  2.44461425e-06  3.19276666e-02 -4.57234598e-02]]\n"
     ]
    }
   ],
   "source": [
    "results = pro_model.to_dict()\n",
    "results.update({\"charges\": pro_model.charges,\n",
    "                 \"multipole_moments\": compute_multipole_moments(pro_model, grid, density, localgrids)})\n",
    "\n",
    "print(\"Atomic Charges    = \", results[\"charges\"])\n",
    "print(\"\")\n",
    "print(\"Atomic Multipoles = \", results[\"multipole_moments\"])"
   ]
  },
  {
   "cell_type": "markdown",
   "metadata": {
    "slideshow": {
     "slide_type": "slide"
    }
   },
   "source": [
    "# `AtomDB`\n",
    "\n",
    "[GitHub Repository](https://github.com/theochem/AtomDB)\n",
    "\n",
    "> An Extended Periodic Table of Atoms and Atomic Ions.\n",
    "\n",
    "Promolecular approximations\n",
    "$$\n",
    "\\rho^{\\text{extensive}}_{\\text{pro}} \\approx \\sum^{N_{atoms}}_{k=1} w_k \\rho_k\n",
    "$$\n",
    "$$\n",
    "\\langle x_{\\text{intensive}} \\rangle_p \\approx  \\left(\\frac{\\sum_{k=1}^n w_k x_k^p}{\\sum_{k=1}^n w_k} \\right)^{\\tfrac{1}{p}}\n",
    "$$"
   ]
  },
  {
   "cell_type": "code",
   "execution_count": 12,
   "metadata": {
    "slideshow": {
     "slide_type": "subslide"
    }
   },
   "outputs": [],
   "source": [
    "import atomdb\n",
    "from atomdb.promolecule import make_promolecule"
   ]
  },
  {
   "cell_type": "code",
   "execution_count": 13,
   "metadata": {
    "slideshow": {
     "slide_type": "fragment"
    }
   },
   "outputs": [
    {
     "name": "stdout",
     "output_type": "stream",
     "text": [
      "Number of electrons    =  8\n",
      "Atomic mass    =  15.9994\n",
      "MO Occupations =  [2. 2. 4.]\n",
      "MO Energies    =  [-20.668657   -1.2443146  -0.6319062]\n",
      "Atomic radius [a.u.]    =  2.8723837235603034\n"
     ]
    }
   ],
   "source": [
    "# Define species and load data \n",
    "element = 'O'\n",
    "charge = 0\n",
    "mult = 3\n",
    "dataset = 'slater'\n",
    "\n",
    "species = atomdb.load(element, charge, mult, dataset=dataset)\n",
    "\n",
    "# Periodic Table information\n",
    "print(\"Number of electrons    = \", species.nelec)\n",
    "print(\"Atomic mass    = \", species.mass)\n",
    "print(\"MO Occupations = \", species.ao.occs_a + species.ao.occs_b)\n",
    "print(\"MO Energies    = \", species.ao.energy_a)\n",
    "print(\"Atomic radius [a.u.]    = \", species.vdw_radii['bondi'])"
   ]
  },
  {
   "cell_type": "code",
   "execution_count": 15,
   "metadata": {
    "slideshow": {
     "slide_type": "subslide"
    }
   },
   "outputs": [
    {
     "name": "stdout",
     "output_type": "stream",
     "text": [
      "\n",
      "Extensive properties:\n",
      "Atomic mass    =  18.015349999999998\n",
      "Electronic energy =  -75.809398458\n",
      "Integral Density  =  9.999999689967611\n"
     ]
    }
   ],
   "source": [
    "promol = make_promolecule(mol.atnums,mol.atcoords,dataset=dataset)\n",
    "print(\"\")\n",
    "print(\"Extensive properties:\")\n",
    "print(\"Atomic mass    = \", promol.mass())\n",
    "print(\"Electronic energy = \", -promol.energy())\n",
    "promol_dens = promol.density(grid.points, log=True) \n",
    "# Integrate electron density\n",
    "print(\"Integral Density  = \", grid.integrate(promol_dens))"
   ]
  },
  {
   "cell_type": "code",
   "execution_count": 16,
   "metadata": {
    "slideshow": {
     "slide_type": "subslide"
    }
   },
   "outputs": [
    {
     "name": "stdout",
     "output_type": "stream",
     "text": [
      "\n",
      "Intensive properties:\n",
      "Ionization potential [eV]  =  8.9413445699156\n",
      "Chemical potential [eV]  =  -4.129391064708408\n",
      "Chemical hardness [eV]  =  9.826602113920087\n"
     ]
    }
   ],
   "source": [
    "promol = make_promolecule(mol.atnums, mol.atcoords, charges=results[\"charges\"], dataset='nist')\n",
    "print(\"\")\n",
    "print(\"Intensive properties:\")\n",
    "print(\"Ionization potential [eV]  = \", promol.ip())\n",
    "print(\"Chemical potential [eV]  = \", promol.mu())\n",
    "print(\"Chemical hardness [eV]  = \", promol.eta())"
   ]
  },
  {
   "cell_type": "markdown",
   "metadata": {
    "slideshow": {
     "slide_type": "slide"
    }
   },
   "source": [
    "<center> <h1> ChemTools </h1> </center>\n",
    "\n",
    "- **2016** (**Heidar-Zadeh**, **Ayers**, etc.) Post-processing split off from HORTON.\n",
    "- **2022** (**Heidar-Zadeh**, etc.) Python 3. Modularity and HORTON-independence.\n",
    "  <table>\n",
    "<tr>\n",
    "    <td> <img src=\"data/images/Chemtoolselephant.png\" alt=\"unreadable code book\" style=\"width: 320px;\"/> </td>\n",
    "    <td> <img src=\"data/images/Chemtoolsnew.png\" alt=\"unit test book\" style=\"width: 400px;\"/> </td>\n",
    "</tr>\n",
    "</table>"
   ]
  },
  {
   "cell_type": "markdown",
   "metadata": {
    "slideshow": {
     "slide_type": "slide"
    }
   },
   "source": [
    "<img src=\"data/images/Chemtoolscoronene.png\" alt=\"ChemTools modules\" style=\"display:block; margin:auto; width:950px;\"/>"
   ]
  },
  {
   "cell_type": "markdown",
   "metadata": {
    "slideshow": {
     "slide_type": "slide"
    }
   },
   "source": [
    "<center> <h1> 10 Lines of Code! </h1> </center>\n",
    "<img src=\"data/images/chemtoolsfigure.png\" alt=\"ChemTools examples from book chapter\" style=\"display:block; margin:auto; width:2000px;\"/> \n",
    "\n",
    "**Source: [`demo_chemtools.ipynb`](https://github.com/theochem/horton3/tree/master/notebooks)** <br>\n",
    "**GitHub: [theochem/horton3/notebooks](https://github.com/theochem/horton3/tree/master/notebooks)**"
   ]
  },
  {
   "cell_type": "markdown",
   "metadata": {
    "slideshow": {
     "slide_type": "slide"
    }
   },
   "source": [
    "<center> <h1> QC-Edu </h1> </center>\n",
    "\n",
    "- **2020** (**Heidar-Zadeh**, **Ayers**, **Richer**) \n",
    "  - online materials for learning Python, Git(Hub), HPC, Quantum & Computational Chemistry\n",
    "- **2022** (**Ayers**, **Chuiko**, **Heidar-Zadeh**, ...) \n",
    "  - [qchem.qc-edu.org](https://qchem.qc-edu.org/main_content.html) using Jupyterbook, hosted and deployed via [GitHub](https://github.com/QC-Edu/IntroQM2022)\n",
    "  - [GitHub classroom with autograded assignments](https://classroom.github.com/a/OSyApCGa)"
   ]
  }
 ],
 "metadata": {
  "celltoolbar": "Slideshow",
  "kernelspec": {
   "display_name": "Python 3 (ipykernel)",
   "language": "python",
   "name": "python3"
  },
  "language_info": {
   "codemirror_mode": {
    "name": "ipython",
    "version": 3
   },
   "file_extension": ".py",
   "mimetype": "text/x-python",
   "name": "python",
   "nbconvert_exporter": "python",
   "pygments_lexer": "ipython3",
   "version": "3.7.13"
  },
  "rise": {
   "scroll": true
  },
  "toc": {
   "base_numbering": 1,
   "nav_menu": {},
   "number_sections": true,
   "sideBar": true,
   "skip_h1_title": false,
   "title_cell": "Table of Contents",
   "title_sidebar": "Contents",
   "toc_cell": false,
   "toc_position": {},
   "toc_section_display": true,
   "toc_window_display": false
  }
 },
 "nbformat": 4,
 "nbformat_minor": 4
}
