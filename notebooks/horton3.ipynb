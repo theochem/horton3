{
 "cells": [
  {
   "cell_type": "markdown",
   "metadata": {},
   "source": [
    "# HORTON3 Notebook\n"
   ]
  },
  {
   "cell_type": "code",
   "execution_count": 1,
   "metadata": {},
   "outputs": [],
   "source": [
    "import numpy as np"
   ]
  },
  {
   "cell_type": "markdown",
   "metadata": {},
   "source": [
    "## IOData\n",
    "\n",
    "For more information check [IOData GitHub repository](https://github.com/theochem/iodata)\n"
   ]
  },
  {
   "cell_type": "code",
   "execution_count": 2,
   "metadata": {},
   "outputs": [],
   "source": [
    "from iodata import load_one"
   ]
  },
  {
   "cell_type": "code",
   "execution_count": 3,
   "metadata": {},
   "outputs": [
    {
     "name": "stdout",
     "output_type": "stream",
     "text": [
      "Number of atoms    =  3\n",
      "Atomic numbers     =  [8 1 1]\n",
      "Atomic coordinates = \n",
      "[[-4.44734101  3.39697999  0.        ]\n",
      " [-2.58401495  3.55136194  0.        ]\n",
      " [-4.92380519  5.2049622   0.        ]]\n"
     ]
    }
   ],
   "source": [
    "# load FCHK file\n",
    "mol = load_one(\"data/h2o_sto3g.fchk\")\n",
    "\n",
    "print(\"Number of atoms    = \", mol.natom)\n",
    "print(\"Atomic numbers     = \", mol.atnums)\n",
    "print(\"Atomic coordinates = \")\n",
    "print(mol.atcoords)"
   ]
  },
  {
   "cell_type": "markdown",
   "metadata": {},
   "source": [
    "## Grid\n",
    "\n",
    "For more information check [Grid GitHub repository](https://github.com/theochem/grid)\n"
   ]
  },
  {
   "cell_type": "code",
   "execution_count": 5,
   "metadata": {},
   "outputs": [],
   "source": [
    "from grid.becke import BeckeWeights\n",
    "from grid.molgrid import MolGrid\n",
    "from grid.onedgrid import GaussChebyshev\n",
    "from grid.rtransform import BeckeRTransform"
   ]
  },
  {
   "cell_type": "code",
   "execution_count": 8,
   "metadata": {},
   "outputs": [
    {
     "name": "stdout",
     "output_type": "stream",
     "text": [
      "Grid points shape  =  (33000, 3)\n",
      "Grid weights shape =  (33000,)\n"
     ]
    },
    {
     "name": "stderr",
     "output_type": "stream",
     "text": [
      "/Users/farnaz/Documents/projects/grid/src/grid/molgrid.py:436: RuntimeWarning: Sizes are used for making the angular grids, degrees are ignored!\n",
      "  AtomGrid(rad_grid, degrees=None, sizes=[size], center=atcoord, rotate=rotate)\n"
     ]
    }
   ],
   "source": [
    "# Make molecular grid (using grid package)\n",
    "oned = GaussChebyshev(100)\n",
    "rgrid = BeckeRTransform(1e-4, 1.5).transform_1d_grid(oned)\n",
    "grid = MolGrid.from_size(mol.atnums, mol.atcoords, 110, rgrid, BeckeWeights())\n",
    "\n",
    "print(\"Grid points shape  = \", grid.points.shape)\n",
    "print(\"Grid weights shape = \", grid.weights.shape)"
   ]
  },
  {
   "cell_type": "markdown",
   "metadata": {},
   "source": [
    "## GBasis\n",
    "\n",
    "For more information check [GBasis GitHub repository](https://github.com/theochem/gbasis)\n"
   ]
  },
  {
   "cell_type": "code",
   "execution_count": 9,
   "metadata": {},
   "outputs": [],
   "source": [
    "from gbasis.wrappers import from_iodata\n",
    "from gbasis.evals.density import evaluate_density"
   ]
  },
  {
   "cell_type": "code",
   "execution_count": 12,
   "metadata": {},
   "outputs": [
    {
     "name": "stdout",
     "output_type": "stream",
     "text": [
      "Density shape =  (33000,)\n"
     ]
    }
   ],
   "source": [
    "# Compute molecular density (using gbasis package)\n",
    "one_rdm = mol.one_rdms.get(\"post_scf\", mol.one_rdms.get(\"scf\"))\n",
    "if one_rdm is None:\n",
    "    if mol.mo is None:\n",
    "        raise ValueError(\n",
    "            \"The input file lacks wavefunction data with which \"\n",
    "            \"the density can be computed.\"\n",
    "        )\n",
    "    coeffs, occs = mol.mo.coeffs, mol.mo.occs\n",
    "    one_rdm = np.dot(coeffs * occs, coeffs.T)\n",
    "basis = from_iodata(mol)\n",
    "density = evaluate_density(one_rdm, basis, grid.points)\n",
    "\n",
    "print(\"Density shape = \", density.shape)"
   ]
  },
  {
   "cell_type": "markdown",
   "metadata": {},
   "source": [
    "## Denspart\n",
    "\n",
    "For more information check [Denspart GitHub repository](https://github.com/theochem/denspart)\n"
   ]
  },
  {
   "cell_type": "code",
   "execution_count": 13,
   "metadata": {},
   "outputs": [],
   "source": [
    "from denspart.mbis import MBISProModel\n",
    "from denspart.vh import optimize_reduce_pro_model\n",
    "from denspart.properties import compute_radial_moments, compute_multipole_moments, safe_ratio"
   ]
  },
  {
   "cell_type": "code",
   "execution_count": 14,
   "metadata": {},
   "outputs": [
    {
     "name": "stdout",
     "output_type": "stream",
     "text": [
      "Building local grids\n",
      "Integral of density: 10.000088051536862\n",
      "Optimization\n",
      "#Iter  #Call         ekld          kld  -constraint     grad.rms  cputime (s)\n",
      "-----  -----  -----------  -----------  -----------  -----------  -----------\n",
      "    1      1    0.5936396    0.5937276  -8.8052e-05   2.4770e-01    0.0085490\n",
      "    2      2    0.4540785    0.4165366   3.7542e-02   2.1698e-01    0.0138920\n",
      "    3      3    0.5260690    0.0458188   4.8025e-01   3.7584e-01    0.0126850\n",
      "    4      4    0.2849372    0.0567326   2.2820e-01   7.9159e-02    0.0126620\n",
      "    5      4    0.2849372    0.0567326   2.2820e-01   7.9159e-02    0.0126620\n",
      "    6      5    0.2660324    0.1775433   8.8489e-02   6.2103e-02    0.0129380\n",
      "    7      6    0.2387620    0.4953425  -2.5658e-01   1.8547e-02    0.0122460\n",
      "    8      7    0.2380081    0.4360893  -1.9808e-01   1.8836e-02    0.0124810\n",
      "    9      8    0.2364791    0.3463656  -1.0989e-01   2.0299e-02    0.0120230\n",
      "   10      9    0.2339202    0.2778148  -4.3895e-02   1.8394e-02    0.0121140\n",
      "   11      9    0.2339202    0.2778148  -4.3895e-02   1.8394e-02    0.0121140\n",
      "   12     10    0.2296892    0.2229894   6.6998e-03   4.3310e-03    0.0121490\n",
      "   13     11    0.2296676    0.1979888   3.1679e-02   4.2835e-03    0.0125300\n",
      "   14     12    0.2292207    0.1761747   5.3046e-02   5.7652e-03    0.0130290\n",
      "   15     13    0.2243019    0.2068453   1.7457e-02   3.6779e-03    0.0120270\n",
      "   16     13    0.2243019    0.2068453   1.7457e-02   3.6779e-03    0.0120270\n",
      "   17     14    0.2242348    0.2260800  -1.8452e-03   8.4911e-04    0.0124860\n",
      "   18     14    0.2242348    0.2260800  -1.8452e-03   8.4911e-04    0.0124860\n",
      "   19     15    0.2242019    0.2230878   1.1141e-03   1.4436e-04    0.0121780\n",
      "   20     15    0.2242019    0.2230878   1.1141e-03   1.4436e-04    0.0121780\n",
      "   21     16    0.2242017    0.2241983   3.3890e-06   6.3611e-05    0.0121050\n",
      "   22     17    0.2242016    0.2241108   9.0803e-05   3.1895e-05    0.0119890\n",
      "   23     17    0.2242016    0.2241108   9.0803e-05   3.1895e-05    0.0119890\n",
      "   24     18    0.2242016    0.2242169  -1.5301e-05   1.6855e-05    0.0126180\n",
      "   25     19    0.2242016    0.2241595   4.2068e-05   1.2043e-05    0.0120960\n",
      "   26     20    0.2242016    0.2241744   2.7146e-05   1.9964e-05    0.0122130\n",
      "   27     21    0.2242016    0.2241709   3.0644e-05   7.1636e-06    0.0120520\n",
      "   28     22    0.2242016    0.2241835   1.8054e-05   5.0086e-06    0.0118170\n",
      "   29     22    0.2242016    0.2241835   1.8054e-05   5.0086e-06    0.0118170\n",
      "   30     23    0.2242016    0.2241928   8.8256e-06   1.3071e-06    0.0118900\n",
      "   31     23    0.2242016    0.2241928   8.8256e-06   1.3071e-06    0.0118900\n",
      "   32     24    0.2242016    0.2242000   1.5772e-06   1.8534e-07    0.0120440\n",
      "   33     24    0.2242016    0.2242000   1.5772e-06   1.8534e-07    0.0120440\n",
      "   34     25    0.2242016    0.2242013   3.3250e-07   3.4519e-08    0.0120830\n",
      "   35     25    0.2242016    0.2242013   3.3250e-07   3.4519e-08    0.0120830\n",
      "   36     26    0.2242016    0.2242015   6.1513e-08   1.0213e-08    0.0121590\n",
      "-----  -----  -----------  -----------  -----------  -----------  -----------\n",
      "Optimizer message: \"`gtol` termination condition is satisfied.\"\n",
      "Total charge:             -8.8051537e-05\n",
      "Sum atomic charges:       -8.8113050e-05\n",
      "Promodel\n",
      " ifn iatom  atn       parameters...\n",
      "   0     0    8       1.48539976     18.89314060\n",
      "   1     0    8       7.05786479      2.68720946\n",
      "   2     1    1       0.72833700      2.76425290\n",
      "   3     2    1       0.72848657      2.76378775\n",
      "Computing additional properties\n"
     ]
    }
   ],
   "source": [
    "# MBIS partitioning (using denspart package)\n",
    "pro_model_init = MBISProModel.from_geometry(mol.atnums, mol.atcoords)\n",
    "\n",
    "pro_model, localgrids = optimize_reduce_pro_model(\n",
    "    pro_model_init,\n",
    "    grid,\n",
    "    density,\n",
    "    # args.gtol,\n",
    "    # args.maxiter,\n",
    "    # args.density_cutoff,\n",
    ")\n",
    "print(\"Promodel\")\n",
    "pro_model.pprint()\n",
    "\n",
    "print(\"Computing additional properties\")\n",
    "results = pro_model.to_dict()\n",
    "\n",
    "results.update(\n",
    "    {\n",
    "        \"charges\": pro_model.charges,\n",
    "        \"radial_moments\": compute_radial_moments(\n",
    "            pro_model, grid, density, localgrids\n",
    "        ),\n",
    "        \"multipole_moments\": compute_multipole_moments(\n",
    "            pro_model, grid, density, localgrids\n",
    "        ),\n",
    "        # \"gtol\": args.gtol,\n",
    "        # \"maxiter\": args.maxiter,\n",
    "        # \"density_cutoff\": args.density_cutoff,\n",
    "    }\n",
    ")\n",
    "# np.savez_compressed(args.out_npz, **results)"
   ]
  },
  {
   "cell_type": "markdown",
   "metadata": {},
   "source": [
    "### Atomic Weights\n"
   ]
  },
  {
   "cell_type": "code",
   "execution_count": 10,
   "metadata": {},
   "outputs": [
    {
     "name": "stdout",
     "output_type": "stream",
     "text": [
      "Atom index =  0\n",
      " Computed Charge =  -0.5432644398016997\n",
      " Expected Charge =  -0.543264566552871\n",
      "\n",
      "Atom index =  1\n",
      " Computed Charge =  0.2716629962211814\n",
      " Expected Charge =  0.2716629419119454\n",
      "\n",
      "Atom index =  2\n",
      " Computed Charge =  0.27151342808814816\n",
      " Expected Charge =  0.2715133736087356\n",
      "\n"
     ]
    }
   ],
   "source": [
    "# Compute atomic weights\n",
    "pro = pro_model.compute_density(grid, localgrids)\n",
    "# result = np.zeros((pro_model.natom, nmax + 1))\n",
    "for iatom, atcoord in enumerate(pro_model.atcoords):\n",
    "    print(\"Atom index = \", iatom)\n",
    "    localgrid = grid.get_localgrid(atcoord, 8.0)\n",
    "    pro_atom = pro_model.compute_proatom(iatom, localgrid.points)\n",
    "    # ratio (copied from denspart properties module) is the ratio of molecular and promolecular density\n",
    "    # ratio = safe_ratio(density[localgrid.indices], pro[localgrid.indices])\n",
    "    # atomic weight\n",
    "    atweight = safe_ratio(pro_atom, pro[localgrid.indices])\n",
    "    # check: compute atomic population to make sure it matches expected values (from Denspart)\n",
    "    print(\" Computed Charge = \", mol.atnums[iatom] - localgrid.integrate(atweight * density[localgrid.indices]))\n",
    "    print(\" Expected Charge = \", pro_model.charges[iatom])\n",
    "    print(\"\")"
   ]
  }
 ],
 "metadata": {
  "kernelspec": {
   "display_name": "Python 3",
   "language": "python",
   "name": "python3"
  },
  "language_info": {
   "codemirror_mode": {
    "name": "ipython",
    "version": 3
   },
   "file_extension": ".py",
   "mimetype": "text/x-python",
   "name": "python",
   "nbconvert_exporter": "python",
   "pygments_lexer": "ipython3",
   "version": "3.11.5"
  },
  "toc": {
   "base_numbering": 1,
   "nav_menu": {},
   "number_sections": true,
   "sideBar": true,
   "skip_h1_title": false,
   "title_cell": "Table of Contents",
   "title_sidebar": "Contents",
   "toc_cell": false,
   "toc_position": {},
   "toc_section_display": true,
   "toc_window_display": false
  }
 },
 "nbformat": 4,
 "nbformat_minor": 4
}
