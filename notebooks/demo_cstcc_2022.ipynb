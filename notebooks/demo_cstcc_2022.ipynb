{
 "cells": [
  {
   "cell_type": "markdown",
   "metadata": {},
   "source": [
    "# HORTON 3.x Demo\n",
    "\n",
    "> **If you are using Google Colab**, you'll need to install packages and download the example files by running the commands in the next cell."
   ]
  },
  {
   "cell_type": "code",
   "execution_count": null,
   "metadata": {},
   "outputs": [],
   "source": [
    "# Install packages in Google Colab. Don't run this cell if packages/data is already in your environment\n",
    "! pip install git+https://github.com/theochem/iodata.git\n",
    "! pip install git+https://github.com/theochem/grid.git\n",
    "! pip install git+https://github.com/theochem/gbasis.git\n",
    "! pip install git+https://github.com/theochem/denspart.git\n",
    "! pip install git+https://github.com/theochem/AtomDB.git@demo_notebook\n",
    "\n",
    "# download the example files\n",
    "import os\n",
    "from urllib.request import urlretrieve\n",
    "\n",
    "fpath = \"data/\"\n",
    "if not os.path.exists(fpath):\n",
    "    os.makedirs(fpath, exist_ok=True)\n",
    "\n",
    "urlretrieve(\n",
    "    \"https://raw.githubusercontent.com/theochem/horton3/master/notebooks/data/h2o_sto3g.fchk\",\n",
    "    os.path.join(fpath, \"h2o_sto3g.fchk\")\n",
    "    )"
   ]
  },
  {
   "cell_type": "markdown",
   "metadata": {
    "slideshow": {
     "slide_type": "slide"
    }
   },
   "source": [
    "# `IOData`\n",
    "\n",
    "[GitHub Repository](https://github.com/theochem/iodata) | [Webpage](https://iodata.qcdevs.org/) | [Publication](https://onlinelibrary.wiley.com/doi/10.1002/jcc.26468)\n",
    "\n",
    "> `IOData` is a free and open-source Python library for parsing, storing, and converting various file formats commonly used by quantum chemistry, molecular dynamics, and plane-wave density-functional-theory software programs. It also supports a flexible framework for generating input files for various software packages.\n",
    "\n",
    "Check [IOData Webpage](https://iodata.qcdevs.org/) for list of supported file formats and properties."
   ]
  },
  {
   "cell_type": "code",
   "execution_count": null,
   "metadata": {
    "slideshow": {
     "slide_type": "subslide"
    }
   },
   "outputs": [],
   "source": [
    "from iodata import load_one"
   ]
  },
  {
   "cell_type": "code",
   "execution_count": null,
   "metadata": {
    "slideshow": {
     "slide_type": "subslide"
    }
   },
   "outputs": [],
   "source": [
    "mol = load_one(\"data/h2o_sto3g.fchk\")\n",
    "\n",
    "print(\"Number of atoms    = \", mol.natom)\n",
    "print(\"Atomic numbers     = \", mol.atnums)\n",
    "print(\"Atomic coordinates = \")\n",
    "print(mol.atcoords)\n",
    "print(\"\")\n",
    "print(\"MO Occupations = \", mol.mo.occs)\n",
    "print(\"MO Energies    = \", mol.mo.energies)"
   ]
  },
  {
   "cell_type": "markdown",
   "metadata": {
    "slideshow": {
     "slide_type": "slide"
    }
   },
   "source": [
    "# `Grid`\n",
    "\n",
    "[GitHub Repository](https://github.com/theochem/grid) | [Webpage](https://grid.qcdevs.org/)\n",
    "\n",
    "> `grid` is a free and open-source Python library for numerical integration, interpolation and differentiation of interest for the quantum chemistry community. Grid is intended to support molecular density-functional (DFT) theory calculations, but it also periodic boundary conditions."
   ]
  },
  {
   "cell_type": "code",
   "execution_count": null,
   "metadata": {},
   "outputs": [],
   "source": [
    "from grid.becke import BeckeWeights\n",
    "from grid.molgrid import MolGrid\n",
    "from grid.onedgrid import GaussChebyshev\n",
    "from grid.rtransform import BeckeRTransform"
   ]
  },
  {
   "cell_type": "code",
   "execution_count": null,
   "metadata": {},
   "outputs": [],
   "source": [
    "# Make molecular grid (using grid package)\n",
    "oned = GaussChebyshev(100)\n",
    "rgrid = BeckeRTransform(1e-4, 1.5).transform_1d_grid(oned)\n",
    "grid = MolGrid.from_size(mol.atnums, mol.atcoords, rgrid, 110, BeckeWeights())\n",
    "\n",
    "print(\"Grid points shape  = \", grid.points.shape)\n",
    "print(\"Grid weights shape = \", grid.weights.shape)"
   ]
  },
  {
   "cell_type": "code",
   "execution_count": null,
   "metadata": {},
   "outputs": [],
   "source": [
    "# Make molecular grid (using preset grid)\n",
    "oned = GaussChebyshev(100)\n",
    "rgrid = BeckeRTransform(1e-4, 1.5).transform_1d_grid(oned)\n",
    "grid = MolGrid.from_preset(mol.atnums, mol.atcoords, rgrid, \"ultrafine\", BeckeWeights())\n",
    "\n",
    "print(\"Grid points shape  = \", grid.points.shape)\n",
    "print(\"Grid weights shape = \", grid.weights.shape)"
   ]
  },
  {
   "cell_type": "markdown",
   "metadata": {},
   "source": [
    "# `GBasis`\n",
    "\n",
    "[GitHub Repository](https://github.com/theochem/gbasis)\n",
    "\n",
    "> `gbasis` is a pure-Python package for evaluating and analytically integrating Gaussian-type orbitals and their related quantities. The goal is to build a set of tools to the quantum chemistry community that are easily accessible and easy to use as to facilitate future scientific works."
   ]
  },
  {
   "cell_type": "code",
   "execution_count": null,
   "metadata": {
    "slideshow": {
     "slide_type": "subslide"
    }
   },
   "outputs": [],
   "source": [
    "from gbasis.wrappers import from_iodata\n",
    "from gbasis.evals.density import evaluate_density\n",
    "\n",
    "import numpy as np   #We need this to evaluate the 1DM from the MOs"
   ]
  },
  {
   "cell_type": "code",
   "execution_count": null,
   "metadata": {
    "slideshow": {
     "slide_type": "slide"
    }
   },
   "outputs": [],
   "source": [
    "# Compute molecular density (using gbasis package)\n",
    "one_rdm = np.dot(mol.mo.coeffs * mol.mo.occs, mol.mo.coeffs.T)\n",
    "basis = from_iodata(mol)\n",
    "density = evaluate_density(one_rdm, basis[0], grid.points, coord_type=basis[1])\n",
    "\n",
    "print(\"Density shape = \", density.shape)"
   ]
  },
  {
   "cell_type": "code",
   "execution_count": null,
   "metadata": {},
   "outputs": [],
   "source": [
    "# Integrate electron density\n",
    "print(\"Number of Electrons = \", grid.integrate(density))"
   ]
  },
  {
   "cell_type": "markdown",
   "metadata": {},
   "source": [
    "# `Denspart`\n",
    "\n",
    "[GitHub Repository](https://github.com/theochem/denspart)\n",
    "\n",
    "> Atoms-in-molecules density partitioning schemes for molecules and solids, based on the Hirshfeld/stockholder recipe.\n",
    "\n",
    "- [Information-Theoretic Atoms in Molecules](https://doi.org/10.1021/acs.jpca.7b08966).\n",
    "- [Minimal Basis Iterative Stockholder (MBIS)](https://pubs.acs.org/doi/abs/10.1021/acs.jctc.6b00456)."
   ]
  },
  {
   "cell_type": "code",
   "execution_count": null,
   "metadata": {},
   "outputs": [],
   "source": [
    "from denspart.mbis import MBISProModel\n",
    "from denspart.vh import optimize_reduce_pro_model\n",
    "from denspart.properties import compute_radial_moments, compute_multipole_moments, safe_ratio"
   ]
  },
  {
   "cell_type": "code",
   "execution_count": null,
   "metadata": {},
   "outputs": [],
   "source": [
    "pro_model_init = MBISProModel.from_geometry(mol.atnums, mol.atcoords)\n",
    "pro_model, localgrids = optimize_reduce_pro_model(pro_model_init,grid,density)\n",
    "\n",
    "results = pro_model.to_dict()\n",
    "results.update({\"charges\": pro_model.charges,\n",
    "                 \"multipole_moments\": compute_multipole_moments(pro_model, grid, density, localgrids)})\n",
    "\n",
    "print(\"Atomic Charges    = \", results[\"charges\"])\n",
    "print(\"\")\n",
    "print(\"Atomic Multipoles = \", results[\"multipole_moments\"])"
   ]
  },
  {
   "cell_type": "markdown",
   "metadata": {},
   "source": [
    "## AtomDB\n",
    "\n",
    "[GitHub Repository](https://github.com/theochem/AtomDB)\n",
    "\n",
    "> An Extended Periodic Table of Neutral and Charged Atomic Species\n",
    "\n",
    "Promolecular approximations\n",
    "$$\n",
    "\\rho^{\\text{extensive}}_{\\text{pro}} \\approx \\sum^{N_{atoms}}_{k=1} w_k \\rho_k\n",
    "$$\n",
    "$$\n",
    "\\langle x_{\\text{intensive}} \\rangle_p \\approx  \\left(\\frac{\\sum_{k=1}^n w_k x_k^p}{\\sum_{k=1}^n w_k} \\right)^{\\tfrac{1}{p}}\n",
    "$$"
   ]
  },
  {
   "cell_type": "code",
   "execution_count": null,
   "metadata": {},
   "outputs": [],
   "source": [
    "import atomdb\n",
    "from atomdb.promolecule import make_promolecule"
   ]
  },
  {
   "cell_type": "code",
   "execution_count": null,
   "metadata": {},
   "outputs": [],
   "source": [
    "# Define species and load data\n",
    "element = 'O'\n",
    "charge = 0\n",
    "mult = 3\n",
    "dataset = 'slater'\n",
    "\n",
    "species = atomdb.load(element, charge, mult, dataset=dataset)\n",
    "\n",
    "\n",
    "# Periodic Table information\n",
    "print(\"Number of electrons    = \", species.nelec)\n",
    "print(\"Atomic mass    = \", species.mass)\n",
    "print(\"MO Occupations = \", species.ao.occs_a + species.ao.occs_b)\n",
    "print(\"MO Energies    = \", species.ao.energy_a)\n",
    "print(\"Atomic radius [a.u.]    = \", species.vdw_radii['bondi'])"
   ]
  },
  {
   "cell_type": "code",
   "execution_count": null,
   "metadata": {},
   "outputs": [],
   "source": [
    "promol = make_promolecule(mol.atnums,mol.atcoords,dataset=dataset)\n",
    "print(\"\")\n",
    "print(\"Extensive properties:\")\n",
    "print(\"Atomic mass    = \", promol.mass())\n",
    "print(\"Electronic energy = \", -promol.energy())\n",
    "promol_dens = promol.density(grid.points, log=True)\n",
    "# Integrate electron density\n",
    "print(\"Integral Density  = \", grid.integrate(promol_dens))\n",
    "\n",
    "promol = make_promolecule(mol.atnums, mol.atcoords, charges=results[\"charges\"], dataset='nist')\n",
    "print(\"\")\n",
    "print(\"Intensive properties:\")\n",
    "print(\"Ionization potential [eV]  = \", promol.ip())\n",
    "print(\"Chemical potential [eV]  = \", promol.mu())\n",
    "print(\"Chemical hardness [eV]  = \", promol.eta())"
   ]
  }
 ],
 "metadata": {
  "kernelspec": {
   "display_name": "Python 3 (ipykernel)",
   "language": "python",
   "name": "python3"
  },
  "language_info": {
   "codemirror_mode": {
    "name": "ipython",
    "version": 3
   },
   "file_extension": ".py",
   "mimetype": "text/x-python",
   "name": "python",
   "nbconvert_exporter": "python",
   "pygments_lexer": "ipython3",
   "version": "3.7.13"
  },
  "toc": {
   "base_numbering": 1,
   "nav_menu": {},
   "number_sections": true,
   "sideBar": true,
   "skip_h1_title": false,
   "title_cell": "Table of Contents",
   "title_sidebar": "Contents",
   "toc_cell": false,
   "toc_position": {},
   "toc_section_display": true,
   "toc_window_display": false
  },
  "vscode": {
   "interpreter": {
    "hash": "4846203d052f4918654383d2fa4dc83e5f0e073317ccb4eea0fa3b82d0bd9d45"
   }
  }
 },
 "nbformat": 4,
 "nbformat_minor": 4
}
