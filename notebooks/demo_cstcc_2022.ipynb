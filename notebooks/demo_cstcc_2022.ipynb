{
 "cells": [
  {
   "cell_type": "markdown",
   "metadata": {},
   "source": [
    "# HORTON3 Notebook"
   ]
  },
  {
   "cell_type": "code",
   "execution_count": 1,
   "metadata": {},
   "outputs": [],
   "source": [
    "import numpy as np"
   ]
  },
  {
   "cell_type": "markdown",
   "metadata": {},
   "source": [
    "## For Google Colab: Install Packages"
   ]
  },
  {
   "cell_type": "code",
   "execution_count": 2,
   "metadata": {},
   "outputs": [],
   "source": [
    "# ! pip install git+https://github.com/theochem/iodata.git\n",
    "# ! pip install git+https://github.com/theochem/grid.git\n",
    "# ! pip install git+https://github.com/theochem/gbasis.git\n",
    "# ! pip install git+https://github.com/theochem/denspart.git\n",
    "# ! pip install git+https://github.com/theochem/AtomDB.git@demo_notebook"
   ]
  },
  {
   "cell_type": "markdown",
   "metadata": {},
   "source": [
    "## For Goole Colab: Download Example file"
   ]
  },
  {
   "cell_type": "code",
   "execution_count": 3,
   "metadata": {},
   "outputs": [],
   "source": [
    "# # download the example files\n",
    "# import os\n",
    "# from urllib.request import urlretrieve\n",
    "\n",
    "# fpath = \"data/\"\n",
    "# if not os.path.exists(fpath):\n",
    "#     os.makedirs(fpath, exist_ok=True)\n",
    "\n",
    "# urlretrieve(\n",
    "#     \"https://raw.githubusercontent.com/theochem/horton3/master/notebooks/data/h2o_sto3g.fchk\",\n",
    "#     os.path.join(fpath, \"h2o_sto3g.fchk\")\n",
    "#     )"
   ]
  },
  {
   "cell_type": "markdown",
   "metadata": {},
   "source": [
    "## IOData\n",
    "\n",
    "[GitHub Repository](https://github.com/theochem/iodata) | [Webpage](https://iodata.qcdevs.org/) | [Publication](https://onlinelibrary.wiley.com/doi/10.1002/jcc.26468)"
   ]
  },
  {
   "cell_type": "code",
   "execution_count": 4,
   "metadata": {},
   "outputs": [],
   "source": [
    "from iodata import load_one"
   ]
  },
  {
   "cell_type": "markdown",
   "metadata": {},
   "source": [
    "Check [IOData Webpage](https://iodata.qcdevs.org/) for list of supported file formats and properties."
   ]
  },
  {
   "cell_type": "code",
   "execution_count": 5,
   "metadata": {},
   "outputs": [
    {
     "name": "stdout",
     "output_type": "stream",
     "text": [
      "Number of atoms    =  3\n",
      "Atomic numbers     =  [8 1 1]\n",
      "Atomic coordinates = \n",
      "[[-4.44734101  3.39697999  0.        ]\n",
      " [-2.58401495  3.55136194  0.        ]\n",
      " [-4.92380519  5.2049622   0.        ]]\n",
      "\n",
      "MO Occupations =  [2. 2. 2. 2. 2. 0. 0.]\n",
      "MO Energies    =  [-20.2515759   -1.25754909  -0.59385665  -0.45972894  -0.39261675\n",
      "   0.58179435   0.69267699]\n"
     ]
    }
   ],
   "source": [
    "mol = load_one(\"data/h2o_sto3g.fchk\")\n",
    "\n",
    "print(\"Number of atoms    = \", mol.natom)\n",
    "print(\"Atomic numbers     = \", mol.atnums)\n",
    "print(\"Atomic coordinates = \")\n",
    "print(mol.atcoords)\n",
    "print(\"\")\n",
    "print(\"MO Occupations = \", mol.mo.occs)\n",
    "print(\"MO Energies    = \", mol.mo.energies)"
   ]
  },
  {
   "cell_type": "markdown",
   "metadata": {},
   "source": [
    "## Grid\n",
    "\n",
    "[GitHub Repository](https://github.com/theochem/grid) | [Webpage](https://grid.qcdevs.org/)"
   ]
  },
  {
   "cell_type": "code",
   "execution_count": 6,
   "metadata": {},
   "outputs": [],
   "source": [
    "from grid.becke import BeckeWeights\n",
    "from grid.molgrid import MolGrid\n",
    "from grid.onedgrid import GaussChebyshev\n",
    "from grid.rtransform import BeckeRTransform"
   ]
  },
  {
   "cell_type": "code",
   "execution_count": 7,
   "metadata": {},
   "outputs": [
    {
     "name": "stdout",
     "output_type": "stream",
     "text": [
      "Grid points shape  =  (33000, 3)\n",
      "Grid weights shape =  (33000,)\n"
     ]
    }
   ],
   "source": [
    "# Make molecular grid (using grid package)\n",
    "oned = GaussChebyshev(100)\n",
    "rgrid = BeckeRTransform(1e-4, 1.5).transform_1d_grid(oned)\n",
    "grid = MolGrid.from_size(mol.atnums, mol.atcoords, rgrid, 110, BeckeWeights())\n",
    "\n",
    "print(\"Grid points shape  = \", grid.points.shape)\n",
    "print(\"Grid weights shape = \", grid.weights.shape)"
   ]
  },
  {
   "cell_type": "markdown",
   "metadata": {},
   "source": [
    "## GBasis\n",
    "\n",
    "[GitHub Repository](https://github.com/theochem/gbasis)"
   ]
  },
  {
   "cell_type": "code",
   "execution_count": 8,
   "metadata": {},
   "outputs": [],
   "source": [
    "from gbasis.wrappers import from_iodata\n",
    "from gbasis.evals.density import evaluate_density"
   ]
  },
  {
   "cell_type": "code",
   "execution_count": 9,
   "metadata": {},
   "outputs": [
    {
     "name": "stdout",
     "output_type": "stream",
     "text": [
      "Density shape =  (33000,)\n"
     ]
    }
   ],
   "source": [
    "# Compute molecular density (using gbasis package)\n",
    "one_rdm = mol.one_rdms.get(\"post_scf\", mol.one_rdms.get(\"scf\"))\n",
    "if one_rdm is None:\n",
    "    if mol.mo is None:\n",
    "        raise ValueError(\n",
    "            \"The input file lacks wavefunction data with which \"\n",
    "            \"the density can be computed.\"\n",
    "        )\n",
    "    coeffs, occs = mol.mo.coeffs, mol.mo.occs\n",
    "    one_rdm = np.dot(coeffs * occs, coeffs.T)\n",
    "basis = from_iodata(mol)\n",
    "density = evaluate_density(one_rdm, basis[0], grid.points, coord_type=basis[1])\n",
    "\n",
    "print(\"Density shape = \", density.shape)"
   ]
  },
  {
   "cell_type": "code",
   "execution_count": 10,
   "metadata": {},
   "outputs": [
    {
     "name": "stdout",
     "output_type": "stream",
     "text": [
      "Integral Density =  10.000088051536862\n"
     ]
    }
   ],
   "source": [
    "# Integrate electron density\n",
    "print(\"Integral Density = \", grid.integrate(density))"
   ]
  },
  {
   "cell_type": "markdown",
   "metadata": {},
   "source": [
    "## Denspart\n",
    "\n",
    "[GitHub Repository](https://github.com/theochem/denspart)"
   ]
  },
  {
   "cell_type": "code",
   "execution_count": 11,
   "metadata": {},
   "outputs": [],
   "source": [
    "from denspart.mbis import MBISProModel\n",
    "from denspart.vh import optimize_reduce_pro_model\n",
    "from denspart.properties import compute_radial_moments, compute_multipole_moments, safe_ratio"
   ]
  },
  {
   "cell_type": "markdown",
   "metadata": {},
   "source": [
    "For details, check [MBIS Method (Publication)](https://pubs.acs.org/doi/abs/10.1021/acs.jctc.6b00456)."
   ]
  },
  {
   "cell_type": "code",
   "execution_count": 12,
   "metadata": {},
   "outputs": [
    {
     "name": "stdout",
     "output_type": "stream",
     "text": [
      "Building local grids\n",
      "Integral of density: 10.000088051536862\n",
      "Optimization\n",
      "#Iter  #Call         ekld          kld  -constraint     grad.rms  cputime (s)\n",
      "-----  -----  -----------  -----------  -----------  -----------  -----------\n",
      "    1      1    0.5936396    0.5937277  -8.8052e-05   2.4770e-01    0.0121400\n",
      "    2      6    0.3753745    0.2911400   8.4234e-02   1.2533e-01    0.0117945\n",
      "    3     12    0.2686959    0.1705652   9.8131e-02   6.2372e-02    0.0090875\n",
      "    4     12    0.2686959    0.1705652   9.8131e-02   6.2372e-02    0.0090875\n",
      "    5     19    0.2305333    0.1914994   3.9034e-02   1.2143e-02    0.0098012\n",
      "    6     19    0.2305333    0.1914994   3.9034e-02   1.2143e-02    0.0098012\n",
      "    7     28    0.2244088    0.2004450   2.3964e-02   2.7948e-03    0.0111817\n",
      "    8     28    0.2244088    0.2004450   2.3964e-02   2.7948e-03    0.0111817\n",
      "    9     35    0.2242477    0.2167734   7.4743e-03   7.5066e-04    0.0098180\n",
      "   10     35    0.2242477    0.2167734   7.4743e-03   7.5066e-04    0.0098180\n",
      "   11     44    0.2242019    0.2246797  -4.7776e-04   1.6096e-04    0.0092163\n",
      "   12     50    0.2242017    0.2235944   6.0735e-04   1.4402e-04    0.0105861\n",
      "   13     50    0.2242017    0.2235944   6.0735e-04   1.4402e-04    0.0105861\n",
      "   14     55    0.2242016    0.2242938  -9.2235e-05   2.6373e-05    0.0106341\n",
      "   15     55    0.2242016    0.2242938  -9.2235e-05   2.6373e-05    0.0106341\n",
      "   16     62    0.2242016    0.2241724   2.9179e-05   6.0896e-06    0.0092402\n",
      "   17     62    0.2242016    0.2241724   2.9179e-05   6.0896e-06    0.0092402\n",
      "   18     72    0.2242016    0.2241966   4.9971e-06   9.7114e-07    0.0086887\n",
      "   19     72    0.2242016    0.2241966   4.9971e-06   9.7114e-07    0.0086887\n",
      "   20     77    0.2242016    0.2242016   1.3876e-08   2.2358e-07    0.0085977\n",
      "   21     77    0.2242016    0.2242016   1.3876e-08   2.2358e-07    0.0085977\n",
      "   22     83    0.2242016    0.2242020  -4.1684e-07   3.7244e-08    0.0090122\n",
      "   23     93    0.2242016    0.2242014   1.9940e-07   3.8827e-08    0.0101362\n",
      "-----  -----------  -----------  -----------  -----------  -----------\n",
      "Optimizer message: \"`gtol` termination condition is satisfied.\"\n",
      "Total charge:             -8.8051537e-05\n",
      "Sum atomic charges:       -8.8250941e-05\n",
      "Promodel\n",
      " ifn iatom  atn       parameters...\n",
      "   0     0    8       1.48539978     18.89314089\n",
      "   1     0    8       7.05786478      2.68720947\n",
      "   2     1    1       0.72833706      2.76425298\n",
      "   3     2    1       0.72848663      2.76378784\n",
      "Computing additional properties\n",
      "\n",
      "Atomic Charges    =  [-0.54326457  0.27166294  0.27151337]\n",
      "\n",
      "Atomic Multipoles =  [[ 1.04745268e-04 -9.33268444e-03 -1.33907698e-02  1.22937748e-01\n",
      "   4.48006971e-05  4.24558896e-05  4.06214293e-03 -1.14437832e-02\n",
      "  -2.39832090e-04 -8.58941508e-02 -1.22798554e-01 -1.60561679e-05\n",
      "  -1.32617258e-03  3.97348040e-01 -1.11803634e-01 -2.20657845e-01\n",
      "   3.99507629e-04  1.39984956e-03  5.86164379e-03 -9.79805155e-03\n",
      "   2.63034491e-03 -3.74615205e-03 -2.02831996e-01 -1.60438238e-01]\n",
      " [-1.23614854e-04 -5.54216731e-03  1.91428896e-03 -1.34548126e-02\n",
      "  -8.92861302e-05  1.12530268e-05  2.77729208e-02 -5.55179944e-03\n",
      "   7.53125800e-05  1.02617186e-02 -5.30372965e-03 -1.50916075e-06\n",
      "   3.11436271e-04 -1.20321434e-02 -1.56309423e-02 -3.48659869e-02\n",
      "  -3.03513426e-04  2.55922301e-04  4.49109453e-02  2.75592164e-03\n",
      "  -7.94709407e-05  7.76506623e-04 -3.81111787e-02  4.12318264e-02]\n",
      " [-2.99397236e-05  3.52163714e-03 -4.64433542e-03 -1.33272897e-02\n",
      "   1.14942417e-04 -6.69364801e-05 -1.80487805e-02 -2.18396152e-02\n",
      "  -7.46818177e-05 -8.41811265e-03  8.33218111e-03  1.68783903e-04\n",
      "   2.40438377e-04 -2.38186900e-03  1.94829711e-02 -3.52644940e-02\n",
      "   5.70811404e-04 -3.75132177e-04 -3.68835410e-02 -2.70974418e-02\n",
      "  -1.96194516e-04  3.33175257e-04  3.27662590e-02 -4.59357750e-02]]\n"
     ]
    }
   ],
   "source": [
    "# MBIS partitioning (using denspart package)\n",
    "pro_model_init = MBISProModel.from_geometry(mol.atnums, mol.atcoords)\n",
    "\n",
    "pro_model, localgrids = optimize_reduce_pro_model(\n",
    "    pro_model_init,\n",
    "    grid,\n",
    "    density,\n",
    "    # args.gtol,\n",
    "    # args.maxiter,\n",
    "    # args.density_cutoff,\n",
    ")\n",
    "print(\"Promodel\")\n",
    "pro_model.pprint()\n",
    "\n",
    "print(\"Computing additional properties\")\n",
    "results = pro_model.to_dict()\n",
    "\n",
    "results.update(\n",
    "    {\n",
    "        \"charges\": pro_model.charges,\n",
    "        \"radial_moments\": compute_radial_moments(\n",
    "            pro_model, grid, density, localgrids\n",
    "        ),\n",
    "        \"multipole_moments\": compute_multipole_moments(\n",
    "            pro_model, grid, density, localgrids\n",
    "        ),\n",
    "        # \"gtol\": args.gtol,\n",
    "        # \"maxiter\": args.maxiter,\n",
    "        # \"density_cutoff\": args.density_cutoff,\n",
    "    }\n",
    ")\n",
    "# np.savez_compressed(args.out_npz, **results)\n",
    "print(\"\")\n",
    "print(\"Atomic Charges    = \", results[\"charges\"])\n",
    "print(\"\")\n",
    "print(\"Atomic Multipoles = \", results[\"multipole_moments\"])"
   ]
  },
  {
   "cell_type": "markdown",
   "metadata": {},
   "source": [
    "## AtomDB\n",
    "\n",
    "[GitHub Repository](https://github.com/theochem/AtomDB)"
   ]
  },
  {
   "cell_type": "code",
   "execution_count": 13,
   "metadata": {},
   "outputs": [],
   "source": [
    "import atomdb\n",
    "from atomdb.promolecule import make_promolecule"
   ]
  },
  {
   "cell_type": "code",
   "execution_count": 15,
   "metadata": {},
   "outputs": [
    {
     "name": "stdout",
     "output_type": "stream",
     "text": [
      "Number of electrons    =  8\n",
      "Atomic mass    =  15.9994\n",
      "MO Occupations =  [2. 2. 4.]\n",
      "MO Energies    =  [-20.668657   -1.2443146  -0.6319062]\n",
      "Atomic radius [a.u.]    =  2.8723837235603034\n",
      "\n",
      "Extensive properties\n",
      "Atomic mass    =  18.015349999999998\n",
      "Electronic energy =  -75.809398458\n",
      "Integral Density  =  10.000093372926958\n",
      "\n",
      "Intensive properties\n",
      "Ionization potential [eV]  =  18.01535\n",
      "Chemical potential [eV]  =  -4.129357026569924\n",
      "Chemical hardness [eV]  =  9.826763820445786\n"
     ]
    }
   ],
   "source": [
    "# Define species and load data\n",
    "element = 'O'\n",
    "charge = 0\n",
    "mult = 3\n",
    "dataset = 'slater'\n",
    "\n",
    "species = atomdb.load(element, charge, mult, dataset=dataset)\n",
    "\n",
    "\n",
    "# Periodic Table information\n",
    "print(\"Number of electrons    = \", species.nelec)\n",
    "print(\"Atomic mass    = \", species.mass)\n",
    "print(\"MO Occupations = \", species.ao.occs_a + species.ao.occs_b)\n",
    "print(\"MO Energies    = \", species.ao.energy_a)\n",
    "print(\"Atomic radius [a.u.]    = \", species.vdw_radii['bondi'])\n",
    "\n",
    "\n",
    "promol = make_promolecule(\n",
    "    mol.atnums,\n",
    "    mol.atcoords,\n",
    "    dataset=dataset,\n",
    "    # charges=None,\n",
    "    # mults=None,\n",
    "    # units=\"bohr\",\n",
    "    # datapath=DEFAULT_DATAPATH,\n",
    ")\n",
    "print(\"\")\n",
    "print(\"Extensive properties\")\n",
    "print(\"Atomic mass    = \", promol.mass())\n",
    "print(\"Electronic energy = \", -promol.energy())\n",
    "promol_dens = promol.density(grid.points, log=True)\n",
    "# Integrate electron density\n",
    "print(\"Integral Density  = \", grid.integrate(promol_dens))\n",
    "\n",
    "promol = make_promolecule(mol.atnums, mol.atcoords, charges=results[\"charges\"], dataset='nist')\n",
    "print(\"\")\n",
    "print(\"Intensive properties\")\n",
    "print(\"Ionization potential [eV]  = \", promol.mass())\n",
    "print(\"Chemical potential [eV]  = \", promol.mu())\n",
    "print(\"Chemical hardness [eV]  = \", promol.eta())"
   ]
  }
 ],
 "metadata": {
  "kernelspec": {
   "display_name": "Python 3.7.12 ('qcdevs')",
   "language": "python",
   "name": "python3"
  },
  "language_info": {
   "codemirror_mode": {
    "name": "ipython",
    "version": 3
   },
   "file_extension": ".py",
   "mimetype": "text/x-python",
   "name": "python",
   "nbconvert_exporter": "python",
   "pygments_lexer": "ipython3",
   "version": "3.7.12"
  },
  "toc": {
   "base_numbering": 1,
   "nav_menu": {},
   "number_sections": true,
   "sideBar": true,
   "skip_h1_title": false,
   "title_cell": "Table of Contents",
   "title_sidebar": "Contents",
   "toc_cell": false,
   "toc_position": {},
   "toc_section_display": true,
   "toc_window_display": false
  },
  "vscode": {
   "interpreter": {
    "hash": "4846203d052f4918654383d2fa4dc83e5f0e073317ccb4eea0fa3b82d0bd9d45"
   }
  }
 },
 "nbformat": 4,
 "nbformat_minor": 4
}
